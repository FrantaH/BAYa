{
  "cells": [
    {
      "cell_type": "markdown",
      "metadata": {
        "id": "1eS5ke9SKPWV"
      },
      "source": [
        "# BAYa class Assignment 2021\n",
        "\n",
        "In this assignment, your task will be to implement and analyze algorithms for inference in probabilistic\n",
        "models described by factor graphs. In particular, you will implement Sum-Product algorithm (or Belief Propagation), Max-Product (Max-Sum) algorithm and Loopy Belief Propagation to infer different probabilities, (marginal) distributions and values of variables for general factor\n",
        "graphs with categorical random variables as described in the slides on [Graphical Models and Inference](http://www.fit.vutbr.cz/study/courses/BAYa/public/prednasky/2-Graphical%20Models.pdf).\n",
        "More detailed information can be found in Chapter 8.4 in [Christopher M. Bishop. 2006. Pattern Recognition and Machine Learning](https://www.microsoft.com/en-us/research/uploads/prod/2006/01/Bishop-Pattern-Recognition-and-Machine-Learning-2006.pdf).\n",
        "\n",
        "The preferred and easiest way of accomplishing this task is to complete this Jupyter Notebook, which already comes\n",
        "with a definition of the probabilistic model that you will work with.\n",
        "If you do not have any experience with Jupyter Notebook, the easiest way to start is to install Anaconda3,\n",
        "run Jupyter Notebook and open this notebook downloaded from [BAYa_Assignment2021.ipynb](http://www.fit.vutbr.cz/study/courses/BAYa/public/notebooks/BAYa_Assignment2021.ipynb).\n",
        "\n",
        "The following cell contains a code with the definition of the probabilistic model for which you will run the inference algorithms. You should not edit this part!"
      ]
    },
    {
      "cell_type": "code",
      "execution_count": 53,
      "metadata": {
        "id": "V0nzE2zYKPWZ"
      },
      "outputs": [],
      "source": [
        "import numpy as np\n",
        "\n",
        "#Names of random variables in our model\n",
        "var_names=['State', 'Age', 'COVID', 'Party', 'Favorite', 'Voting']\n",
        "           \n",
        "#Names of possible values (categories) for each random variables.\n",
        "val_names=[['Texas', 'California', 'NewYork'], #State\n",
        "           ['Young', 'Old'],                   #Age\n",
        "           ['Negative', 'Positive'],           #COVID\n",
        "           ['Democrats', 'Republicans'],       #Party\n",
        "           ['Biden', 'Trump'],                 #Favorite\n",
        "           ['InPerson', 'Postal', 'NotVoting']]#Voting\n",
        "\n",
        "add_sum = 0     #for task #2\n",
        "mult_sum = 0    #for task #2\n",
        "\n",
        "\n",
        "#The above variables with names are introduced just to make up a story around our model. Use these names\n",
        "# to interpret your results, but, in your 'generic' inference algorithms, avoid the use of these variables\n",
        "# and use only the definitions below!\n",
        "\n",
        "#Number of categories for each random variable.\n",
        "ncategories = np.array([len(v) for v in val_names])\n",
        "\n",
        "class Factor:\n",
        "    \"\"\"\n",
        "    Instances of this class represent individual factors in a factor graph.\n",
        "    It is merely a structure of two member variables:\n",
        "    'vars': list of N integers, which are IDs of N random variables that this\n",
        "        factor depends on. These integers can be seen as indices into 'var_names'\n",
        "    'table': potential function of the factor. Since we deal only with categorical\n",
        "        variables, the potential function has the form of an N-dimensional array.\n",
        "        The first dimension corresponds to the first variable in 'vars', the second\n",
        "        dimension to the second variable, etc. The size of each dimension is given\n",
        "        by the number of possible values of the corresponding variable.\n",
        "    \"\"\"\n",
        "    def __init__(self, list_of_variable, potential_function_table):\n",
        "        self.vars = list(list_of_variable)\n",
        "        self.table = np.array(potential_function_table)\n",
        "        \n",
        "        # the number of table dimensions and the number of variables must match\n",
        "        assert(self.table.ndim == len(self.vars))\n",
        "        # the individual dimensions must match with the number of categories of the corresponding variable\n",
        "        assert(np.all(ncategories[self.vars]==self.table.shape))\n",
        "\n",
        "    def __repr__(self):\n",
        "        # An instance of Factor prints/shows as list of variables (both names and IDs) it depends on  \n",
        "        return \"f(\"+','.join([var_names[v]+str(v) for v in self.vars])+\")\"\n",
        "        \n",
        "        \n",
        "\"List of factors defining our complete probabilistic model\"\n",
        "factors = [\n",
        "#         P(State)\n",
        "    Factor([0], [0.3,   # Texas\n",
        "                 0.5,   # California\n",
        "                 0.2]), # NewYork\n",
        "\n",
        "#         P(Age)\n",
        "    Factor([1], [0.6,   # Young\n",
        "                 0.4]), # Old\n",
        "\n",
        "#         P(COVID)\n",
        "    Factor([2], [0.7,   # Negative\n",
        "                 0.3]), # Positive\n",
        "    \n",
        "\n",
        "#                               Texas      California  NewYork\n",
        "#         P(Party|State,Age)   Young,Old   Young,Old   Young.Old\n",
        "    Factor([3,    0,    1],  [[[0.4, 0.2], [0.9, 0.8], [0.8, 0.6]],  # Democrats \n",
        "                              [[0.6, 0.8], [0.1, 0.2], [0.2, 0.4]]]),# Republican\n",
        "\n",
        "#         P(Favorite|Party)    Dem.  Rep.\n",
        "    Factor([4,       3],     [[0.95, 0.2],  # Biden\n",
        "                              [0.05, 0.8]]),# Trump\n",
        "    \n",
        "#                                Democrats   Republicans\n",
        "#         P(Voting|Party,COVID) Neg. Pos.  Neg. Pos. \n",
        "    Factor([5,     3,    2], [[[0.5, 0.0], [0.7, 0.1]], # InPerson \n",
        "                              [[0.4, 0.9], [0.1, 0.4]], # Postal\n",
        "                              [[0.1, 0.1], [0.2, 0.5]]])# None\n",
        "]"
      ]
    },
    {
      "cell_type": "markdown",
      "metadata": {
        "id": "Y07j-b5aKPWb"
      },
      "source": [
        "In the above cell, we first introduce names of our random variables and their values to make up some \"story\" around our probabilistic model. Our model \"pretends\" to model the behaviour of a random US citizen during last year's US presidential elections. It contains the following random variables and their categorical values:\n",
        "\n",
        "* State: Does the random person come from 'Texas', 'California' or 'NewYork'? For simplicity, we pretend that the USA does not have more states.  \n",
        "* Age: Is the person 'Young' or 'Old'?\n",
        "* COVID: Is the person COVID 'Positive' or 'Negative'?\n",
        "* Party: Is the person a supporter of 'Democrats' or 'Republicans'?\n",
        "* Favorite: Is the person's preferred presidential candidate 'Biden' or 'Trump'?\n",
        "* Voting: Is the person voting 'InPerson', using 'Postal' vote or 'NotVoting' at all?\n",
        "\n",
        "Next came the definition of the full model as a list of factors. In our model, the factors are taken from a bayesian network (see below). Therefore, each factor represents a (normalized) probability distribution for one of the 6 variables. Such variables are always the first element of 'vars' (see 'vars' in class Factor). If 'vars' has more than\n",
        "one element, then the factor represents a conditional distribution that is conditioned on the remaining variables.\n",
        "\n",
        "The following function 'evaluate_factor' can help us interpret the individual factors. Its arguments are a Factor  instance and values for all the variables that the factor depends on (in the order given by 'vars'). The values are given only as integer IDs of the categories (i.e. second indices into 'val_names') The function evaluates the factor using the values. Finally, using the variable and value names, it prints out a string showing what (conditional) distribution is evaluated using what values and what is the resulting probability."
      ]
    },
    {
      "cell_type": "code",
      "execution_count": 54,
      "metadata": {
        "colab": {
          "base_uri": "https://localhost:8080/"
        },
        "id": "r6R9Ap9tKPWc",
        "outputId": "ed252d6d-63a4-40a6-f425-04778769204c"
      },
      "outputs": [
        {
          "output_type": "stream",
          "name": "stdout",
          "text": [
            "P(Voting=Postal|Party=Democrats,COVID=Positive) = 0.9\n",
            "P(Voting=NotVoting|Party=Republicans,COVID=Positive) = 0.5\n",
            "P(Favorite=Biden|Party=Republicans) = 0.2\n",
            "P(State=California) = 0.5\n"
          ]
        }
      ],
      "source": [
        "def evaluate_factor(factor, *values):\n",
        "    var_vals = [var_names[var]+'='+val_names[var][val] for var,val in zip(factor.vars, values)]\n",
        "    print(\"P(\"+var_vals[0]+ ('' if len(var_vals)<2 else '|')+(','.join(var_vals[1:]))+\") =\", factor.table[values])\n",
        "\n",
        "evaluate_factor(factors[5], 1, 0, 1)\n",
        "evaluate_factor(factors[5], 2, 1, 1)\n",
        "evaluate_factor(factors[4], 0, 1)\n",
        "evaluate_factor(factors[0], 1)"
      ]
    },
    {
      "cell_type": "markdown",
      "metadata": {
        "id": "Mjj9bF0MKPWc"
      },
      "source": [
        "From the examples of evaluated factors above, we can see that\n",
        "* 90% of COVID positive supporters of Democrats choose to vote using postal votes\n",
        "* 50% of COVID positive Republicans choose not to vote at all\n",
        "* 15% of Republicans find Biden to be more acceptable president\n",
        "* 40% of voters are from California\n",
        "\n",
        "Using all the factors, the following code constructs a graph showing the corresponding Bayesian Network. Each node is one variable. For each factor, we create edges into the first variable in 'vars' from all the remaining variables."
      ]
    },
    {
      "cell_type": "code",
      "execution_count": 55,
      "metadata": {
        "colab": {
          "base_uri": "https://localhost:8080/",
          "height": 272
        },
        "id": "RJjc9S8aKPWd",
        "outputId": "aad16b1e-68c3-4d11-cc2c-f9ace640603b"
      },
      "outputs": [
        {
          "output_type": "execute_result",
          "data": {
            "text/plain": [
              "<graphviz.dot.Digraph at 0x7fd4f1db1990>"
            ],
            "image/svg+xml": "<?xml version=\"1.0\" encoding=\"UTF-8\" standalone=\"no\"?>\n<!DOCTYPE svg PUBLIC \"-//W3C//DTD SVG 1.1//EN\"\n \"http://www.w3.org/Graphics/SVG/1.1/DTD/svg11.dtd\">\n<!-- Generated by graphviz version 2.40.1 (20161225.0304)\n -->\n<!-- Title: %3 Pages: 1 -->\n<svg width=\"206pt\" height=\"188pt\"\n viewBox=\"0.00 0.00 205.89 188.00\" xmlns=\"http://www.w3.org/2000/svg\" xmlns:xlink=\"http://www.w3.org/1999/xlink\">\n<g id=\"graph0\" class=\"graph\" transform=\"scale(1 1) rotate(0) translate(4 184)\">\n<title>%3</title>\n<polygon fill=\"#ffffff\" stroke=\"transparent\" points=\"-4,4 -4,-184 201.8939,-184 201.8939,4 -4,4\"/>\n<!-- State -->\n<g id=\"node1\" class=\"node\">\n<title>State</title>\n<ellipse fill=\"none\" stroke=\"#000000\" cx=\"28.5975\" cy=\"-162\" rx=\"28.6953\" ry=\"18\"/>\n<text text-anchor=\"middle\" x=\"28.5975\" y=\"-158.3\" font-family=\"Times,serif\" font-size=\"14.00\" fill=\"#000000\">State</text>\n</g>\n<!-- Party -->\n<g id=\"node2\" class=\"node\">\n<title>Party</title>\n<ellipse fill=\"none\" stroke=\"#000000\" cx=\"65.5975\" cy=\"-90\" rx=\"30.5947\" ry=\"18\"/>\n<text text-anchor=\"middle\" x=\"65.5975\" y=\"-86.3\" font-family=\"Times,serif\" font-size=\"14.00\" fill=\"#000000\">Party</text>\n</g>\n<!-- State&#45;&gt;Party -->\n<g id=\"edge1\" class=\"edge\">\n<title>State&#45;&gt;Party</title>\n<path fill=\"none\" stroke=\"#000000\" d=\"M37.5541,-144.5708C41.9171,-136.0807 47.2553,-125.6929 52.0989,-116.2674\"/>\n<polygon fill=\"#000000\" stroke=\"#000000\" points=\"55.2655,-117.7628 56.7233,-107.2687 49.0395,-114.5633 55.2655,-117.7628\"/>\n</g>\n<!-- Favorite -->\n<g id=\"node4\" class=\"node\">\n<title>Favorite</title>\n<ellipse fill=\"none\" stroke=\"#000000\" cx=\"61.5975\" cy=\"-18\" rx=\"41.6928\" ry=\"18\"/>\n<text text-anchor=\"middle\" x=\"61.5975\" y=\"-14.3\" font-family=\"Times,serif\" font-size=\"14.00\" fill=\"#000000\">Favorite</text>\n</g>\n<!-- Party&#45;&gt;Favorite -->\n<g id=\"edge3\" class=\"edge\">\n<title>Party&#45;&gt;Favorite</title>\n<path fill=\"none\" stroke=\"#000000\" d=\"M64.5881,-71.8314C64.1603,-64.131 63.6516,-54.9743 63.1762,-46.4166\"/>\n<polygon fill=\"#000000\" stroke=\"#000000\" points=\"66.6698,-46.2037 62.6204,-36.4133 59.6806,-46.592 66.6698,-46.2037\"/>\n</g>\n<!-- Voting -->\n<g id=\"node5\" class=\"node\">\n<title>Voting</title>\n<ellipse fill=\"none\" stroke=\"#000000\" cx=\"157.5975\" cy=\"-18\" rx=\"36.2938\" ry=\"18\"/>\n<text text-anchor=\"middle\" x=\"157.5975\" y=\"-14.3\" font-family=\"Times,serif\" font-size=\"14.00\" fill=\"#000000\">Voting</text>\n</g>\n<!-- Party&#45;&gt;Voting -->\n<g id=\"edge4\" class=\"edge\">\n<title>Party&#45;&gt;Voting</title>\n<path fill=\"none\" stroke=\"#000000\" d=\"M84.215,-75.4297C97.2946,-65.1936 115.0179,-51.3231 129.7701,-39.778\"/>\n<polygon fill=\"#000000\" stroke=\"#000000\" points=\"132.337,-42.2135 138.055,-33.2941 128.0228,-36.701 132.337,-42.2135\"/>\n</g>\n<!-- Age -->\n<g id=\"node3\" class=\"node\">\n<title>Age</title>\n<ellipse fill=\"none\" stroke=\"#000000\" cx=\"102.5975\" cy=\"-162\" rx=\"27\" ry=\"18\"/>\n<text text-anchor=\"middle\" x=\"102.5975\" y=\"-158.3\" font-family=\"Times,serif\" font-size=\"14.00\" fill=\"#000000\">Age</text>\n</g>\n<!-- Age&#45;&gt;Party -->\n<g id=\"edge2\" class=\"edge\">\n<title>Age&#45;&gt;Party</title>\n<path fill=\"none\" stroke=\"#000000\" d=\"M93.829,-144.937C89.4695,-136.4537 84.1022,-126.0092 79.2222,-116.513\"/>\n<polygon fill=\"#000000\" stroke=\"#000000\" points=\"82.2438,-114.7352 74.56,-107.4407 76.0178,-117.9348 82.2438,-114.7352\"/>\n</g>\n<!-- COVID -->\n<g id=\"node6\" class=\"node\">\n<title>COVID</title>\n<ellipse fill=\"none\" stroke=\"#000000\" cx=\"157.5975\" cy=\"-90\" rx=\"40.0939\" ry=\"18\"/>\n<text text-anchor=\"middle\" x=\"157.5975\" y=\"-86.3\" font-family=\"Times,serif\" font-size=\"14.00\" fill=\"#000000\">COVID</text>\n</g>\n<!-- COVID&#45;&gt;Voting -->\n<g id=\"edge5\" class=\"edge\">\n<title>COVID&#45;&gt;Voting</title>\n<path fill=\"none\" stroke=\"#000000\" d=\"M157.5975,-71.8314C157.5975,-64.131 157.5975,-54.9743 157.5975,-46.4166\"/>\n<polygon fill=\"#000000\" stroke=\"#000000\" points=\"161.0976,-46.4132 157.5975,-36.4133 154.0976,-46.4133 161.0976,-46.4132\"/>\n</g>\n</g>\n</svg>\n"
          },
          "metadata": {},
          "execution_count": 55
        }
      ],
      "source": [
        "from graphviz import Digraph\n",
        "dot = Digraph()\n",
        "dot.edges([(var_names[v] ,var_names[f.vars[0]]) for f in factors for v in f.vars[1:]])\n",
        "dot"
      ]
    },
    {
      "cell_type": "markdown",
      "metadata": {
        "id": "ZtQGZPLWKPWd"
      },
      "source": [
        "As we can see, our model naively assumes that the probability of being COVID positive does not dependent\n",
        "on the age or the state the person is from.\n",
        "\n",
        "Similarly, we can draw Factor Graph corresponding to our model:"
      ]
    },
    {
      "cell_type": "code",
      "execution_count": 56,
      "metadata": {
        "colab": {
          "base_uri": "https://localhost:8080/",
          "height": 176
        },
        "id": "CJQ2-I9YKPWe",
        "outputId": "0ffda5b5-90c2-488c-bdca-70810cd99b04"
      },
      "outputs": [
        {
          "output_type": "execute_result",
          "data": {
            "text/plain": [
              "<graphviz.dot.Graph at 0x7fd4f1dd5f90>"
            ],
            "image/svg+xml": "<?xml version=\"1.0\" encoding=\"UTF-8\" standalone=\"no\"?>\n<!DOCTYPE svg PUBLIC \"-//W3C//DTD SVG 1.1//EN\"\n \"http://www.w3.org/Graphics/SVG/1.1/DTD/svg11.dtd\">\n<!-- Generated by graphviz version 2.40.1 (20161225.0304)\n -->\n<!-- Title: %3 Pages: 1 -->\n<svg width=\"708pt\" height=\"116pt\"\n viewBox=\"0.00 0.00 708.00 116.00\" xmlns=\"http://www.w3.org/2000/svg\" xmlns:xlink=\"http://www.w3.org/1999/xlink\">\n<g id=\"graph0\" class=\"graph\" transform=\"scale(1 1) rotate(0) translate(4 112)\">\n<title>%3</title>\n<polygon fill=\"#ffffff\" stroke=\"transparent\" points=\"-4,4 -4,-112 704,-112 704,4 -4,4\"/>\n<!-- State_ -->\n<g id=\"node1\" class=\"node\">\n<title>State_</title>\n<polygon fill=\"none\" stroke=\"#000000\" points=\"63,-108 0,-108 0,-72 63,-72 63,-108\"/>\n<text text-anchor=\"middle\" x=\"31.5\" y=\"-86.6\" font-family=\"Times,serif\" font-size=\"13.00\" fill=\"#000000\">f(State0)</text>\n</g>\n<!-- State -->\n<g id=\"node7\" class=\"node\">\n<title>State</title>\n<ellipse fill=\"none\" stroke=\"#000000\" cx=\"79.5\" cy=\"-18\" rx=\"28.6953\" ry=\"18\"/>\n<text text-anchor=\"middle\" x=\"79.5\" y=\"-14.3\" font-family=\"Times,serif\" font-size=\"14.00\" fill=\"#000000\">State</text>\n</g>\n<!-- State_&#45;&#45;State -->\n<g id=\"edge1\" class=\"edge\">\n<title>State_&#45;&#45;State</title>\n<path fill=\"none\" stroke=\"#000000\" d=\"M43.6124,-71.8314C51.1666,-60.5001 60.8229,-46.0157 68.2158,-34.9263\"/>\n</g>\n<!-- Age_ -->\n<g id=\"node2\" class=\"node\">\n<title>Age_</title>\n<polygon fill=\"none\" stroke=\"#000000\" points=\"291,-108 232,-108 232,-72 291,-72 291,-108\"/>\n<text text-anchor=\"middle\" x=\"261.5\" y=\"-86.6\" font-family=\"Times,serif\" font-size=\"13.00\" fill=\"#000000\">f(Age1)</text>\n</g>\n<!-- Age -->\n<g id=\"node8\" class=\"node\">\n<title>Age</title>\n<ellipse fill=\"none\" stroke=\"#000000\" cx=\"174.5\" cy=\"-18\" rx=\"27\" ry=\"18\"/>\n<text text-anchor=\"middle\" x=\"174.5\" y=\"-14.3\" font-family=\"Times,serif\" font-size=\"14.00\" fill=\"#000000\">Age</text>\n</g>\n<!-- Age_&#45;&#45;Age -->\n<g id=\"edge2\" class=\"edge\">\n<title>Age_&#45;&#45;Age</title>\n<path fill=\"none\" stroke=\"#000000\" d=\"M239.5462,-71.8314C224.6462,-59.5003 205.234,-43.435 191.5069,-32.0747\"/>\n</g>\n<!-- COVID_ -->\n<g id=\"node3\" class=\"node\">\n<title>COVID_</title>\n<polygon fill=\"none\" stroke=\"#000000\" points=\"700,-108 623,-108 623,-72 700,-72 700,-108\"/>\n<text text-anchor=\"middle\" x=\"661.5\" y=\"-86.6\" font-family=\"Times,serif\" font-size=\"13.00\" fill=\"#000000\">f(COVID2)</text>\n</g>\n<!-- COVID -->\n<g id=\"node9\" class=\"node\">\n<title>COVID</title>\n<ellipse fill=\"none\" stroke=\"#000000\" cx=\"640.5\" cy=\"-18\" rx=\"40.0939\" ry=\"18\"/>\n<text text-anchor=\"middle\" x=\"640.5\" y=\"-14.3\" font-family=\"Times,serif\" font-size=\"14.00\" fill=\"#000000\">COVID</text>\n</g>\n<!-- COVID_&#45;&#45;COVID -->\n<g id=\"edge3\" class=\"edge\">\n<title>COVID_&#45;&#45;COVID</title>\n<path fill=\"none\" stroke=\"#000000\" d=\"M656.2008,-71.8314C652.9931,-60.8334 648.919,-46.865 645.7247,-35.9134\"/>\n</g>\n<!-- Party_ -->\n<g id=\"node4\" class=\"node\">\n<title>Party_</title>\n<polygon fill=\"none\" stroke=\"#000000\" points=\"213.5,-108 81.5,-108 81.5,-72 213.5,-72 213.5,-108\"/>\n<text text-anchor=\"middle\" x=\"147.5\" y=\"-86.6\" font-family=\"Times,serif\" font-size=\"13.00\" fill=\"#000000\">f(Party3,State0,Age1)</text>\n</g>\n<!-- Party_&#45;&#45;State -->\n<g id=\"edge5\" class=\"edge\">\n<title>Party_&#45;&#45;State</title>\n<path fill=\"none\" stroke=\"#000000\" d=\"M130.3407,-71.8314C119.1669,-60.0002 104.7464,-44.7315 94.119,-33.479\"/>\n</g>\n<!-- Party_&#45;&#45;Age -->\n<g id=\"edge6\" class=\"edge\">\n<title>Party_&#45;&#45;Age</title>\n<path fill=\"none\" stroke=\"#000000\" d=\"M154.3132,-71.8314C158.4375,-60.8334 163.6756,-46.865 167.7825,-35.9134\"/>\n</g>\n<!-- Party -->\n<g id=\"node10\" class=\"node\">\n<title>Party</title>\n<ellipse fill=\"none\" stroke=\"#000000\" cx=\"308.5\" cy=\"-18\" rx=\"30.5947\" ry=\"18\"/>\n<text text-anchor=\"middle\" x=\"308.5\" y=\"-14.3\" font-family=\"Times,serif\" font-size=\"14.00\" fill=\"#000000\">Party</text>\n</g>\n<!-- Party_&#45;&#45;Party -->\n<g id=\"edge4\" class=\"edge\">\n<title>Party_&#45;&#45;Party</title>\n<path fill=\"none\" stroke=\"#000000\" d=\"M188.1271,-71.8314C218.309,-58.3338 258.4955,-40.3623 283.9381,-28.9842\"/>\n</g>\n<!-- Favorite_ -->\n<g id=\"node5\" class=\"node\">\n<title>Favorite_</title>\n<polygon fill=\"none\" stroke=\"#000000\" points=\"428,-108 309,-108 309,-72 428,-72 428,-108\"/>\n<text text-anchor=\"middle\" x=\"368.5\" y=\"-86.6\" font-family=\"Times,serif\" font-size=\"13.00\" fill=\"#000000\">f(Favorite4,Party3)</text>\n</g>\n<!-- Favorite_&#45;&#45;Party -->\n<g id=\"edge8\" class=\"edge\">\n<title>Favorite_&#45;&#45;Party</title>\n<path fill=\"none\" stroke=\"#000000\" d=\"M353.3595,-71.8314C343.7779,-60.3335 331.4908,-45.589 322.1994,-34.4393\"/>\n</g>\n<!-- Favorite -->\n<g id=\"node11\" class=\"node\">\n<title>Favorite</title>\n<ellipse fill=\"none\" stroke=\"#000000\" cx=\"398.5\" cy=\"-18\" rx=\"41.6928\" ry=\"18\"/>\n<text text-anchor=\"middle\" x=\"398.5\" y=\"-14.3\" font-family=\"Times,serif\" font-size=\"14.00\" fill=\"#000000\">Favorite</text>\n</g>\n<!-- Favorite_&#45;&#45;Favorite -->\n<g id=\"edge7\" class=\"edge\">\n<title>Favorite_&#45;&#45;Favorite</title>\n<path fill=\"none\" stroke=\"#000000\" d=\"M376.0703,-71.8314C380.6528,-60.8334 386.4729,-46.865 391.0361,-35.9134\"/>\n</g>\n<!-- Voting_ -->\n<g id=\"node6\" class=\"node\">\n<title>Voting_</title>\n<polygon fill=\"none\" stroke=\"#000000\" points=\"605,-108 446,-108 446,-72 605,-72 605,-108\"/>\n<text text-anchor=\"middle\" x=\"525.5\" y=\"-86.6\" font-family=\"Times,serif\" font-size=\"13.00\" fill=\"#000000\">f(Voting5,Party3,COVID2)</text>\n</g>\n<!-- Voting_&#45;&#45;COVID -->\n<g id=\"edge11\" class=\"edge\">\n<title>Voting_&#45;&#45;COVID</title>\n<path fill=\"none\" stroke=\"#000000\" d=\"M554.5194,-71.8314C573.8156,-59.7503 598.8368,-44.0848 616.9071,-32.7712\"/>\n</g>\n<!-- Voting_&#45;&#45;Party -->\n<g id=\"edge10\" class=\"edge\">\n<title>Voting_&#45;&#45;Party</title>\n<path fill=\"none\" stroke=\"#000000\" d=\"M457.9892,-71.8956C424.4063,-62.2916 383.4186,-49.6626 347.5,-36 342.4816,-34.0911 337.2011,-31.8321 332.2029,-29.571\"/>\n</g>\n<!-- Voting -->\n<g id=\"node12\" class=\"node\">\n<title>Voting</title>\n<ellipse fill=\"none\" stroke=\"#000000\" cx=\"525.5\" cy=\"-18\" rx=\"36.2938\" ry=\"18\"/>\n<text text-anchor=\"middle\" x=\"525.5\" y=\"-14.3\" font-family=\"Times,serif\" font-size=\"14.00\" fill=\"#000000\">Voting</text>\n</g>\n<!-- Voting_&#45;&#45;Voting -->\n<g id=\"edge9\" class=\"edge\">\n<title>Voting_&#45;&#45;Voting</title>\n<path fill=\"none\" stroke=\"#000000\" d=\"M525.5,-71.8314C525.5,-61 525.5,-47.2876 525.5,-36.4133\"/>\n</g>\n</g>\n</svg>\n"
          },
          "metadata": {},
          "execution_count": 56
        }
      ],
      "source": [
        "from graphviz import Graph\n",
        "fg = Graph()\n",
        "for f in factors:\n",
        "    #fg.node(var_names[f.vars[0]]+\"_\", var_names[f.vars[0]]+\" \"+str(f), shape=\"box\")\n",
        "    fg.node(var_names[f.vars[0]]+\"_\", str(f), shape=\"box\", fontsize=\"13\")\n",
        "fg.edges([(var_names[f.vars[0]]+\"_\" ,var_names[v]) for f in factors for v in f.vars])\n",
        "fg"
      ]
    },
    {
      "cell_type": "markdown",
      "metadata": {
        "id": "20FwutphKPWe"
      },
      "source": [
        "The factor (rectangle) node names are shown in the form as provided by Factor.\\__repr__() method. Therefore, whenever printing or viewing an instance of a factor node (e.g. for debugging), it will appear in this form of list of variables (both names and IDs) that the factor depends on. This Factor Graph has tree structure so application of Belief Propagation should be straightforward.\n",
        "\n",
        "The following cell implements the inefficient 'brute-force marginalization' approach, which will be useful for testing  correctness of your Belief Propagation implementation. When calling this function, we can specify values of some of the variables and the function marginalizes over all possible values of the remaining variables. It implements the operation\n",
        " $$\n",
        "\\DeclareMathOperator{\\xx}{\\mathbf{x}}\n",
        "\\sum_{\\xx_{marg}}\\prod_s f_s(\\xx_s)\n",
        "$$\n",
        "where the product is over all factors $f_s$, $\\xx_s$ is the subset of variables that $f_s$ depends on and $\\xx_{marg}$ is the subset of variables for which the sum sums over all their possible values (i.e marginalizes). As was already said, in our model, each factor corresponds to the (conditional) distribution of one variable. Therefore, their product corresponds to the joint distribution of all the variables\n",
        "$$\n",
        "\\prod_s f_s(\\xx_s) = P(State) P(Age) P(COVID) P(Party|State,Age) P(Favorite|Party) P(Voting|Party,COVID)\\\\\n",
        "= P(State,Age,COVID,Party,Favorite,Voting)\n",
        "$$\n",
        "\n",
        "For example, if we supply the function with values for $Party$ and $Voting$ and marginalize over all other variables, we obtain the joint marginal probability\n",
        "\n",
        "\n",
        "$$\n",
        "P(Party,Voting)=\\sum_{State} \\sum_{Age}\\sum_{COVID}\\sum_{Favorite}P(State,Age,COVID,Party,Favorite,Voting)\n",
        "$$"
      ]
    },
    {
      "cell_type": "code",
      "execution_count": 57,
      "metadata": {
        "colab": {
          "base_uri": "https://localhost:8080/"
        },
        "id": "jY2BFOtWKPWf",
        "outputId": "fe6eb741-a4f1-49eb-8aec-197412815b72"
      },
      "outputs": [
        {
          "output_type": "stream",
          "name": "stdout",
          "text": [
            "Z =  0.9999999999999999\n"
          ]
        }
      ],
      "source": [
        "import itertools    \n",
        "def brute_force_marginalize(value_list):\n",
        "    global mult_sum    #task #2\n",
        "    global add_sum    #task #2\n",
        "    \"\"\"\n",
        "    observed_values is a list of values one for each variable. For values set to None,\n",
        "    we marginalize over all possible values of the corresponding variable. For other\n",
        "    values, we use the given value for the corresponding variables when evaluating factors.\n",
        "    \"\"\"\n",
        "    value_ranges = [range(n) if v is None else (v,) for n,v in zip(ncategories, value_list)]\n",
        "    marginal_prob = 0.0\n",
        "    # itertools.product let us iterate over all possible values of all variables\n",
        "    for values in itertools.product(*value_ranges):\n",
        "        joint_prob = 1.0\n",
        "        for f in factors:\n",
        "           joint_prob *= f.table[tuple(values[v] for v in f.vars)]\n",
        "           mult_sum += 1    #task #2\n",
        "        marginal_prob+=joint_prob\n",
        "        add_sum += 1    #task #2\n",
        "    return marginal_prob\n",
        "\n",
        "print(\"Z = \", brute_force_marginalize([None, None, None, None, None, None]))"
      ]
    },
    {
      "cell_type": "markdown",
      "metadata": {
        "id": "238LWOsyKPWf"
      },
      "source": [
        "When calling **brute_force_marginalize** in the cell above, we set the values of all variables to **None**. This instructs the function to sum over all the values of all the variables. The result is 1, which proves that our model represents a well normalized joint distribution. In the following calls, we clamp some of the variables to specific values, which avoids marginalization over those variables."
      ]
    },
    {
      "cell_type": "code",
      "execution_count": 58,
      "metadata": {
        "colab": {
          "base_uri": "https://localhost:8080/"
        },
        "id": "ujUNHYgbKPWg",
        "outputId": "e6fc162e-3f40-4f01-ba99-2d3c6bd87d7f"
      },
      "outputs": [
        {
          "output_type": "stream",
          "name": "stdout",
          "text": [
            "P(Voting=InPerson)  = 0.4061000000000001\n",
            "P(Voting=Postal)    = 0.43120000000000014\n",
            "P(Voting=NotVoting) = 0.1627\n",
            "P(Party=Democrats)  = 0.6699999999999997\n",
            "P(Party=Republicans)= 0.33000000000000024\n",
            "P(Party=Republicans,Voting=InPerson)= 0.17159999999999995\n"
          ]
        }
      ],
      "source": [
        "print(\"P(Voting=InPerson)  =\", brute_force_marginalize([None, None, None, None, None, 0]))\n",
        "print(\"P(Voting=Postal)    =\", brute_force_marginalize([None, None, None, None, None, 1]))\n",
        "print(\"P(Voting=NotVoting) =\", brute_force_marginalize([None, None, None, None, None, 2]))\n",
        "print(\"P(Party=Democrats)  =\", brute_force_marginalize([None, None, None, 0, None, None]))\n",
        "print(\"P(Party=Republicans)=\", brute_force_marginalize([None, None, None, 1, None, None]))\n",
        "print(\"P(Party=Republicans,Voting=InPerson)=\", brute_force_marginalize([None, None, None, 1, None, 0]))"
      ]
    },
    {
      "cell_type": "markdown",
      "metadata": {
        "id": "f2P3WkZzKPWg"
      },
      "source": [
        "The above examples show that the marginal probabilities $P(Voting)$ and $P(Party)$ sum to 1 when summed over all their possible values. The marginal distribution $P(Voting)$ tells us what are the probabilities of different forms of voting (InPerson, Postal, NotVoting) and $P(Party=Democrats)$ says that $2/3$ of all the people are Democrats. \n",
        "\n",
        "We also evaluate the joint marginal P(Party,Voting) to see that out of all the people, 17.16% are Republicans that came to vote InPerson.\n",
        "\n",
        "# Simple implementation of Belief Propagation algorithm\n",
        "As a quick start, here comes a simple implementation of the Belief Propagation (or Sum-Product) algorithm, which infers marginal distribution for only one variable. Your task will be to extend this code in various ways according to the tasks and questions below.\n",
        "\n",
        "First, from our factor graph, we create a topologically sorted list of arcs going from leaf nodes to a selected root node. This defines the order in which the messages in the belief propagation algorithm needs to be evaluated."
      ]
    },
    {
      "cell_type": "code",
      "execution_count": 59,
      "metadata": {
        "colab": {
          "base_uri": "https://localhost:8080/"
        },
        "id": "ktAuuHHRKPWg",
        "outputId": "5c5de58b-36b3-4ba5-cb25-8376a481abcd"
      },
      "outputs": [
        {
          "output_type": "execute_result",
          "data": {
            "text/plain": [
              "[(f(State0), 0),\n",
              " (0, f(Party3,State0,Age1)),\n",
              " (f(Age1), 1),\n",
              " (1, f(Party3,State0,Age1)),\n",
              " (f(Party3,State0,Age1), 3),\n",
              " (4, f(Favorite4,Party3)),\n",
              " (f(Favorite4,Party3), 3),\n",
              " (3, f(Voting5,Party3,COVID2)),\n",
              " (f(COVID2), 2),\n",
              " (2, f(Voting5,Party3,COVID2)),\n",
              " (f(Voting5,Party3,COVID2), 5)]"
            ]
          },
          "metadata": {},
          "execution_count": 59
        }
      ],
      "source": [
        "# Obtain list of topologically sorted arcs (paths from the leaves to the root node)\n",
        "# by recursively calling down_the_tree() function starting from a selected root node\n",
        "topologically_sorted_arcs=[]\n",
        "def down_the_tree(to_node, from_node):\n",
        "    neighbours = to_node.vars if type(to_node) is Factor else [f for f in factors if to_node in f.vars]\n",
        "    for node in neighbours:\n",
        "        if node != from_node:\n",
        "            down_the_tree(node, to_node)\n",
        "            topologically_sorted_arcs.append((node, to_node))\n",
        "\n",
        "# We select variable node 5 as the root node\n",
        "down_the_tree(5, None)\n",
        "\n",
        "topologically_sorted_arcs"
      ]
    },
    {
      "cell_type": "markdown",
      "metadata": {
        "id": "iPqEoyenKPWh"
      },
      "source": [
        "As we can see, the result of this step is a list of (from_node, to_node) tuples. Each tuple contains one factor node (instance of class Factor) and one variable node (integer ID) saying from which node to which node given arc leads.\n",
        "\n",
        "Next we define function **evaluate_message(from_node, to_node, message_dict)**, which evaluates message from node **from_node**, to node **to_node** using already evaluated messages stored in dictionary **message_dict** and stores the new message also to dictionary **message_dict**. This function simply implements the two main formulas of the Belief Propagation algorithm:\n",
        "$$\n",
        "\\mu_{x_m\\rightarrow f_s}(x_m) = \\prod_{l \\in ne(x_m)\\setminus f_s} \\mu_{f_l\\rightarrow x_m}(x_m)\n",
        "$$\n",
        "$$\n",
        "\\mu_{f_s\\rightarrow x_n}(x_n)=\\sum_{\\mathbf{x}_s\\setminus x_n }f_s(\\mathbf{x}_s) \\prod_{m \\in ne(f_s)\\setminus x_n}\\mu_{x_m\\rightarrow f_s}(x_m)\n",
        "$$\n",
        "It selects the right formula depending on the type of the evaluated message (from factor to variable node or the other way around). It also covers the initial values for the leaf nodes where $\\mu_{f\\rightarrow x}(x)=f(x)$ and $\\mu_{x\\rightarrow f}(x)=1$.\n",
        "\n",
        "Next we call **evaluate_message** in a loop to evaluate all the (topologically sorted) messages from the leaves to the selected root."
      ]
    },
    {
      "cell_type": "code",
      "execution_count": 60,
      "metadata": {
        "colab": {
          "base_uri": "https://localhost:8080/"
        },
        "id": "2LNs9CvLKPWh",
        "outputId": "3712a7ea-7e09-4115-b449-583219ac6db2"
      },
      "outputs": [
        {
          "output_type": "execute_result",
          "data": {
            "text/plain": [
              "{(0, f(Party3,State0,Age1)): array([0.3, 0.5, 0.2]),\n",
              " (1, f(Party3,State0,Age1)): array([0.6, 0.4]),\n",
              " (2, f(Voting5,Party3,COVID2)): array([0.7, 0.3]),\n",
              " (3, f(Voting5,Party3,COVID2)): array([0.67, 0.33]),\n",
              " (4, f(Favorite4,Party3)): array([1., 1.]),\n",
              " (f(Age1), 1): array([0.6, 0.4]),\n",
              " (f(COVID2), 2): array([0.7, 0.3]),\n",
              " (f(Favorite4,Party3), 3): array([1., 1.]),\n",
              " (f(Party3,State0,Age1), 3): array([0.67, 0.33]),\n",
              " (f(State0), 0): array([0.3, 0.5, 0.2]),\n",
              " (f(Voting5,Party3,COVID2), 5): array([0.4061, 0.4312, 0.1627])}"
            ]
          },
          "metadata": {},
          "execution_count": 60
        }
      ],
      "source": [
        "def evaluate_message(from_node, to_node, message_dict, loopy = None):\n",
        "    global add_sum    #task #2\n",
        "    global mult_sum    #task #2\n",
        "\n",
        "    msg_values=[]\n",
        "    # Message from variable to factor (i.e. the first formula above)\n",
        "    if type(to_node) is Factor: \n",
        "        msg_values=np.ones(ncategories[from_node])\n",
        "        var_node_neighbours = [f for f in factors if from_node in f.vars] # Find neighbouring factor nodes\n",
        "        for fac in var_node_neighbours:          # Retrieve messages (vectors) from all neighbour nodes\n",
        "            if fac != to_node:                              # except for the target factor node\n",
        "                mult_sum += msg_values.shape[0]    #task #2\n",
        "                msg_values *= message_dict[(fac, from_node)]# and calculate their product as the new message.\n",
        "                \n",
        "    # Message from factor to variable (i.e. the first formula above)\n",
        "    else:\n",
        "        # We need to multiply the messages (vectors) coming from the neighbouring variable nodes to the corresponding\n",
        "        # dimensions of the factor table and marginalize these dimensions out (i.e. sum over these dimensions).\n",
        "        # This is done by calling np.tensordot in the code below once for each dimension/message. However,\n",
        "        # we need to skip the dimension/variable corresponding to the target variable (to_node). To do that,\n",
        "        # we move this dimension to be the last dimension in the np.array representing the factor table.\n",
        "        msg_values = np.moveaxis(from_node.table, from_node.vars.index(to_node), -1)\n",
        "        for var in from_node.vars:                          # Retrieve messages (vectors) from all neighbour nodes\n",
        "            if var != to_node:                              # except for the target variable node\n",
        "                mult_sum += np.prod(msg_values.shape)     #task #2\n",
        "                tmp_shape = list(msg_values.shape)        #task #2\n",
        "                tmp_shape[0] -= 1                         #task #2\n",
        "                add_sum += np.prod(tmp_shape)             #task #2\n",
        "                msg_values = np.tensordot(msg_values, message_dict[(var, from_node)], axes=([0],[0]))\n",
        "                                                            # and evaluate the new message (to the target node).\n",
        "        \"\"\"\"\n",
        "        # An alternative more explicit implementation of the 'else' branch\n",
        "        msg_values = np.moveaxis(from_node.table, from_node.vars.index(to_node), 0)\n",
        "        for var in from_node.vars[::-1]: # Go through the variables (and the incoming messages) in the reverse order. ...\n",
        "            if var != to_node:\n",
        "                msg_values = np.sum(msg_values * message_dict[(var, from_node)], axis=-1)\n",
        "                # ... Then the first message corresponds with the last dimension of 'msg_values'. We multiply\n",
        "                # the message to the last dimension of 'msg_values' and marginalize (sum) it out. The last dimension\n",
        "                # disappears and the next message is ready to be multiplied to the new last dimension.\n",
        "        \"\"\"\n",
        "    if loopy:\n",
        "      msg_values = msg_values / np.sum(msg_values)    # normalization for loopy task 7      \n",
        "    # check if something changed and return it for task #7\n",
        "    changed_ = True\n",
        "    if ((from_node, to_node) in message_dict) and (set(message_dict[(from_node, to_node)]) == set(msg_values)):\n",
        "      changed_ = False\n",
        "    \n",
        "    message_dict[(from_node, to_node)] = msg_values # Store the new message\n",
        "\n",
        "    return changed_\n",
        "\n",
        "\n",
        "messages={}\n",
        "for from_node, to_node in topologically_sorted_arcs:\n",
        "    evaluate_message(from_node, to_node, messages)\n",
        "    \n",
        "messages"
      ]
    },
    {
      "cell_type": "markdown",
      "metadata": {
        "id": "pF6oSW8yKPWh"
      },
      "source": [
        "As we can see, the result of this step is a dictionary of all the evaluated messages. The keys are the (from_node, to_node) tuples identifying the arcs as before and the values are the corresponding messages (vectors).\n",
        "\n",
        "Finally, we define function **marginal4var(var, message_dict)**, which evaluates the marginal distribution for variable **var**, using the messages stored in the dictionary **message_dict**. Of course, it is possible only if all the messages necessary to evaluate this distribution are present in the dictionary. In our case, we only evaluated messages leading to the root node corresponding to variable \"Voting\" (variable ID 5). Therefore, we can call this function only for this node."
      ]
    },
    {
      "cell_type": "code",
      "execution_count": 61,
      "metadata": {
        "colab": {
          "base_uri": "https://localhost:8080/"
        },
        "id": "LvFQS9tuKPWi",
        "outputId": "6faae472-86b9-480c-8773-4cf495648f98"
      },
      "outputs": [
        {
          "output_type": "stream",
          "name": "stdout",
          "text": [
            "P(Voting) = [0.4061 0.4312 0.1627] \n",
            "\n",
            "P(Voting=0)= 0.4061000000000001\n",
            "P(Voting=1)= 0.43120000000000014\n",
            "P(Voting=2)= 0.1627 \n",
            "\n"
          ]
        }
      ],
      "source": [
        "def marginal4var(var, message_dict):\n",
        "    global mult_sum    #task #2\n",
        "    global add_sum     #task #2\n",
        "\n",
        "    tmp_shape = list(np.array([message_dict[k] for k in message_dict.keys() if k[1] == var]).shape)    #task #2 (getting shape of list, where prod will be computed)\n",
        "    tmp_shape[0] -= 1         #task #2  (1 less operation than count of items)\n",
        "    mult_sum += np.prod(tmp_shape)    #task #2\n",
        "    res = np.prod([message_dict[k] for k in message_dict.keys() if k[1] == var], axis=0)\n",
        "    mult_sum += res.shape[0]        #task #2\n",
        "    add_sum += res.shape[0] - 1     #task #2\n",
        "    return res / np.sum(res)\n",
        "\n",
        "print(\"P(Voting) =\", marginal4var(5, messages),\"\\n\")\n",
        "print(\"P(Voting=0)=\", brute_force_marginalize([None, None, None, None, None, 0]))\n",
        "print(\"P(Voting=1)=\", brute_force_marginalize([None, None, None, None, None, 1]))\n",
        "print(\"P(Voting=2)=\", brute_force_marginalize([None, None, None, None, None, 2]),\"\\n\")\n"
      ]
    },
    {
      "cell_type": "markdown",
      "metadata": {
        "id": "KKsFw4FvKPWi"
      },
      "source": [
        "We can see that calling **marginal4var** for variable \"Voting\" gives us its correct marginal distribution as verified using function **brute_force_marginalize**.\n",
        "\n",
        "# Tasks and Questions\n",
        "Your task is to extend the above code to answer questions in the following points. Please comment your code sufficiently. It will be taken into account when evaluating the project. Describe what, why and how are you trying to implement. Try to reuse the existing code or its structure as much as possible. Please, do not implement complex general classes and functions with lots of parameters and branches trying to address all the problems and answer all the questions. Instead, write simple single purpose streamlined code addressing a single problem at a time. If you need to implement simple modification of already existing function, do not be afraid to copy-paste that function and modify it. Then explain in comments, what modification you did and why. Try to make your code as little cryptic and as easy to follow as possible.\n",
        "\n",
        "\n",
        "1\\. For all the individual variables, use the Sum-Product  algorithm to (most efficiently) infer and print their marginal distributions $P(State)$, $P(Age)$, $P(COVID)$, $P(Party)$, $P(Favorite)$, $P(Voting)$. We already evaluated marginal distributions for variable $Voting$ in the code above where we used functions **evaluate_message** and **marginal4var**. Reuse these functions as they are to evaluate all the marginal distributions. Check their correctness using the **brute_force_marginalize** function."
      ]
    },
    {
      "cell_type": "code",
      "execution_count": 62,
      "metadata": {
        "colab": {
          "base_uri": "https://localhost:8080/"
        },
        "id": "hc0-_m3YKPWi",
        "outputId": "2b6542cd-cac6-48e4-fe8d-1fe34ab9b4d4"
      },
      "outputs": [
        {
          "output_type": "stream",
          "name": "stdout",
          "text": [
            "Brute force approach:\n",
            "[0.29999999999999993, 0.5000000000000001, 0.19999999999999998]\n",
            "[0.6, 0.4000000000000002]\n",
            "[0.7, 0.3]\n",
            "[0.6699999999999997, 0.33000000000000024]\n",
            "[0.7024999999999998, 0.2975]\n",
            "[0.4061000000000001, 0.43120000000000014, 0.1627]\n",
            "multiplication count =  5184    addition count =  864\n",
            "\n",
            "belief propagation approach\n",
            "[0.3 0.5 0.2]\n",
            "[0.6 0.4]\n",
            "[0.7 0.3]\n",
            "[0.67 0.33]\n",
            "[0.7025 0.2975]\n",
            "[0.4061 0.4312 0.1627]\n",
            "multiplication count =  161    addition count =  70\n"
          ]
        }
      ],
      "source": [
        "mult_sum = 0    #task #2\n",
        "add_sum = 0     #task #2\n",
        "\n",
        "brute_force_ress=[]\n",
        "for i,n in enumerate(ncategories):    #permutation\n",
        "  brute_marg_list = []\n",
        "  for k in range(n):                  #permutation over all marginals\n",
        "    tmp_list=[None, None, None, None, None, None]\n",
        "    tmp_list[i]=k                     #creating query\n",
        "    brute_marg_list.append(brute_force_marginalize(tmp_list))   #appending bruteforce result to sublist to one marginal\n",
        "  brute_force_ress.append(brute_marg_list)                      #appening sublist of marginal to list of all marginals\n",
        "\n",
        "print(\"Brute force approach:\")\n",
        "for i in brute_force_ress:\n",
        "  print(i)\n",
        "print(\"multiplication count = \",mult_sum,\"   addition count = \",add_sum)    #task #2\n",
        "brute_operations = mult_sum + add_sum    #task #2\n",
        "\n",
        "mult_sum = 0    #task #2\n",
        "add_sum = 0     #task #2\n",
        "\n",
        "\n",
        "messages_all={}   #start of copy paste from above cells\n",
        "reverse_sorted_arcs=[]    #first differ\n",
        "for from_node, to_node in topologically_sorted_arcs:\n",
        "    evaluate_message(from_node, to_node, messages_all)\n",
        "    reverse_sorted_arcs.append((to_node,from_node))   #creating complement to all edges (end of copy paste)\n",
        "\n",
        "reverse_sorted_arcs.reverse()   #reversing complement\n",
        "\n",
        "for from_node, to_node in reverse_sorted_arcs:    #completing messages using complement\n",
        "    evaluate_message(from_node, to_node, messages_all)\n",
        "\n",
        "print(\"\\nbelief propagation approach\")    #print all marginals\n",
        "for n in range(6):\n",
        "  print(marginal4var(n, messages_all))\n",
        "\n",
        "print(\"multiplication count = \",mult_sum,\"   addition count = \",add_sum)    #task #2\n",
        "prop_operations = mult_sum + add_sum    #task #2\n",
        "\n",
        "\n",
        "# Write your code and comments here.\n",
        "# This should be possible to implement in about 10 lines of code\n",
        "# Feel free to add more notebook cells (e.g. if you want to write more comments into a Markdown cell)"
      ]
    },
    {
      "cell_type": "markdown",
      "metadata": {
        "id": "ubs1u6eIKPWi"
      },
      "source": [
        "2\\. What is the computational complexity of the inference from the previous point compared to the brute-force marginalization? Extend the code for the inference algorithms (both brute-force and Sum-Product) to count the number of additions and multiplications carried out during the inference (consider only those from the equations describing the algorithm). Report these numbers. Note that, with the brute-force approach you need to call the brute_force_marginalize once for every value of every variable in order to evaluate all the marginal distributions. Note also that single call of **np.tensordot** in function **evaluate_message** performs many multiplications and additions. You need to count all of them. Similarly, when calculating the product of two messages, it is an element-wise product of several numbers."
      ]
    },
    {
      "cell_type": "code",
      "execution_count": 63,
      "metadata": {
        "colab": {
          "base_uri": "https://localhost:8080/"
        },
        "id": "3lYsVu3JKPWi",
        "outputId": "263d3cf9-ddaa-49f8-da8c-96191385f987"
      },
      "outputs": [
        {
          "output_type": "stream",
          "name": "stdout",
          "text": [
            "number of operations with bruteforce approach =  6048\n",
            "number of operations with sum-product approach =  231\n"
          ]
        }
      ],
      "source": [
        "print(\"number of operations with bruteforce approach = \",brute_operations)\n",
        "print(\"number of operations with sum-product approach = \",prop_operations)\n",
        "#implemented in previous cells, best way to find it is to use simply ctrl+f on variables add_sum and mult_sum"
      ]
    },
    {
      "cell_type": "markdown",
      "metadata": {
        "id": "ThDzX9xZKPWj"
      },
      "source": [
        "3\\. Implement function **jointmarginal4fact** similar to already implemented function **marginal4var**. However, this function gets an instance of Factor as the first parameter and evaluates joint marginal distribution for all the variables that the factor depends on. Use this function to evaluate and print joint marginal distributions $P(Favorite, Party)$ and $P(Voting,Party,COVID)$. Check their correctness using the **brute_force_marginalize** function.\n"
      ]
    },
    {
      "cell_type": "code",
      "execution_count": 64,
      "metadata": {
        "id": "RB_TLbZvKPWj",
        "colab": {
          "base_uri": "https://localhost:8080/"
        },
        "outputId": "b3662bf4-5e83-4f3d-941f-697a4296b187"
      },
      "outputs": [
        {
          "output_type": "stream",
          "name": "stdout",
          "text": [
            "joint func P(Favorite4,Party3):\n",
            " [[0.6365 0.066 ]\n",
            " [0.0335 0.264 ]]\n",
            "brute force P(Favorite4,Party3):\n",
            " [[0.6365 0.066 ]\n",
            " [0.0335 0.264 ]]\n",
            "\n",
            "joint func P(Voting5,Party3,COVID2):\n",
            " [[[0.2345 0.    ]\n",
            "  [0.1617 0.0099]]\n",
            "\n",
            " [[0.1876 0.1809]\n",
            "  [0.0231 0.0396]]\n",
            "\n",
            " [[0.0469 0.0201]\n",
            "  [0.0462 0.0495]]]\n",
            "brute force P(Voting5,Party3,COVID2):\n",
            " [[[0.2345 0.    ]\n",
            "  [0.1617 0.0099]]\n",
            "\n",
            " [[0.1876 0.1809]\n",
            "  [0.0231 0.0396]]\n",
            "\n",
            " [[0.0469 0.0201]\n",
            "  [0.0462 0.0495]]]\n"
          ]
        }
      ],
      "source": [
        "def jointmarginal4fact(fac, message_dict):\n",
        "    assert(type(fac) is Factor)\n",
        "    result = np.copy(fac.table)\n",
        "    tmp_1d_view = result.ravel()\n",
        "    message_list = []\n",
        "    for axis,var in enumerate(fac.vars):    #checking if message_dict contains needed messages\n",
        "      assert (var,fac) in message_dict, \"incomplete message_dict\"\n",
        "      message_list.append(message_dict[(var,fac)])    #extract only needed messages\n",
        "\n",
        "    # making a map of marginals in right order\n",
        "    # then multiplying them and then multiply fac.table with it\n",
        "    tmp_1d_view *= np.prod(np.array(list(itertools.product(*message_list))),axis=1)\n",
        "    return result\n",
        "\n",
        "for f in factors:\n",
        "    if str(f) == \"f(Favorite4,Party3)\":\n",
        "      print(\"joint func P(Favorite4,Party3):\\n\",jointmarginal4fact(f,messages_all))\n",
        "      \n",
        "      brute_fav4_par3=[]\n",
        "      for j,_ in enumerate(val_names[4]):\n",
        "        for k,_ in enumerate(val_names[3]):\n",
        "          brute_fav4_par3.append(brute_force_marginalize([None, None, None, k, j, None]))\n",
        "      print(\"brute force P(Favorite4,Party3):\\n\",np.array(brute_fav4_par3).reshape(2,2))\n",
        "\n",
        "\n",
        "    elif str(f) == \"f(Voting5,Party3,COVID2)\":\n",
        "      print(\"\\njoint func P(Voting5,Party3,COVID2):\\n\",jointmarginal4fact(f,messages_all))\n",
        "\n",
        "      brute_vot5_par3_cov2=[]\n",
        "      for j,_ in enumerate(val_names[5]):\n",
        "        for k,_ in enumerate(val_names[3]):\n",
        "          for l,_ in enumerate(val_names[2]):\n",
        "            brute_vot5_par3_cov2.append(brute_force_marginalize([None, None, l, k, None, j]))\n",
        "      print(\"brute force P(Voting5,Party3,COVID2):\\n\",np.array(brute_vot5_par3_cov2).reshape(3,2,2))"
      ]
    },
    {
      "cell_type": "markdown",
      "metadata": {
        "id": "oCstZGluKPWj"
      },
      "source": [
        "4\\. Implement Max-Product (or Max-Sum) algorithm and use it to infer the most likely setting of all the variables. In other words, find the values for all the variables that maximizes the joint probability $P(State, Age, COVID, Party, Favorite, Voting)$. For this purpose, implement and use function **evaluate_maxproduct_message** similar to already implemented function **evaluate_message**, where sumations (hidden in **np.tensordot**) needs to be replaced by max operation. Note that this is somewhat tricky task and, before introducing the max operation, you may want to first reimplement **evaluate_message** so that **np.tensordot** is reimplemented using nested 'for' loops. The function also needs to store the the information necessary for backtracking. Use the parameter **backtrack_dict** for this purpose. To find the most likely setting of the variables, you will call **evaluate_maxproduct_message** only for messages sent from leaves to a selected variable root node. Then you can evaluate the most likely setting of the root node and backtrack the most likely values of the other variables as described in the [slides](http://www.fit.vutbr.cz/study/courses/BAYa/public/prednasky/2-Graphical%20Models.pdf)."
      ]
    },
    {
      "cell_type": "code",
      "execution_count": 65,
      "metadata": {
        "scrolled": true,
        "id": "Eih6YdIJKPWj"
      },
      "outputs": [],
      "source": [
        "def evaluate_maxproduct_message(from_node, to_node, message_dict, backtrack_dict):\n",
        "    assert(type(from_node) is Factor and type(to_node) is int or type(from_node) is int and type(to_node) is Factor)\n",
        "    # Write your code and comments here.\n",
        "    # backtrack_dict does not have to be dictionary if you prefer to store the backtracking information another way.\n"
      ]
    },
    {
      "cell_type": "markdown",
      "metadata": {
        "id": "Mgi0iRXhKPWj"
      },
      "source": [
        "5\\. Implement function **brute_force_one_best** which finds the most likely setting of all variables using the bruteforce approach (i.e. by evaluating joint probability of all variables for all possible settings of the variables). This can be easily achieved by modifying/simplifying function **brute_force_marginalize**. Use this function to check that your implementation of the  Max-Product algorithm is correct. How does the most likely setting of all variables compare to the most likely values according to marginal distributions of the individual variables?"
      ]
    },
    {
      "cell_type": "code",
      "execution_count": 66,
      "metadata": {
        "scrolled": false,
        "id": "FGWf1pTvKPWj",
        "colab": {
          "base_uri": "https://localhost:8080/"
        },
        "outputId": "cad6119c-9de8-4093-d529-4d4ab64eaee7"
      },
      "outputs": [
        {
          "output_type": "execute_result",
          "data": {
            "text/plain": [
              "((1, 0, 0, 0, 0, 0), 0.089775)"
            ]
          },
          "metadata": {},
          "execution_count": 66
        }
      ],
      "source": [
        "def brute_force_one_best():\n",
        "  best_setting = [0]*5      # edited\n",
        "  best_prob = 0.0           # edited\n",
        "\n",
        "  value_ranges = [range(n) for n in ncategories]    # edited\n",
        "  marginal_prob = 0.0\n",
        "  for values in itertools.product(*value_ranges):\n",
        "      joint_prob = 1.0\n",
        "      for f in factors:\n",
        "          joint_prob *= f.table[tuple(values[v] for v in f.vars)]\n",
        "      if joint_prob > best_prob:      # edited\n",
        "        best_prob = joint_prob        # edited\n",
        "        best_setting = values         # edited\n",
        "\n",
        "  return (best_setting,best_prob)                 # edited\n",
        "\n",
        "brute_force_one_best()"
      ]
    },
    {
      "cell_type": "markdown",
      "metadata": {
        "id": "ZWrJw_yNKPWk"
      },
      "source": [
        "6\\. In the following code cell, we change our factor graph by redefining the factors corresponding to the distributions for variables $Age$ and $COVID$. These factors will now represent conditional distributions $P(Age|State)$ and $P(COVID|State)$ (i.e. the variables are newly conditioned on variable $State$) to express that the ratios of Old/Young people and COVID positive/negative people are different in different states. Please, display the Bayesian Network and the Factor Graph for this updated model and identify a loop in the Factor Graph to show it does not have a tree structure anymore."
      ]
    },
    {
      "cell_type": "code",
      "execution_count": 67,
      "metadata": {
        "id": "DRGhdKNlKPWk"
      },
      "outputs": [],
      "source": [
        "# Do not change this field!\n",
        "\n",
        "#                  P(Age|State) Texas California NewYork\n",
        "factors[1] = Factor([1,  0],   [[0.7,    0.5,     0.4], # Young\n",
        "                                [0.3,    0.5,     0.6]])# Old\n",
        "\n",
        "#                  P(COVID|State) Texas California NewYork\n",
        "factors[2] = Factor([2,    0],   [[0.55,     0.7,     0.6], # Negative\n",
        "                                  [0.45,     0.3,     0.4]])# Positive\n",
        "\n",
        "#ATTENTION! After executing this code, you need to invalidate/recalculate variables like 'topologically_sorted_arcs'\n",
        "# or 'messages' as they contain references to the old (now invalid) factor instances."
      ]
    },
    {
      "cell_type": "code",
      "execution_count": 68,
      "metadata": {
        "id": "xIwzrHvdKPWk",
        "colab": {
          "base_uri": "https://localhost:8080/",
          "height": 494
        },
        "outputId": "095e728a-6bfd-42b8-95ef-3ff6fd72d173"
      },
      "outputs": [
        {
          "output_type": "display_data",
          "data": {
            "image/svg+xml": "<?xml version=\"1.0\" encoding=\"UTF-8\" standalone=\"no\"?>\n<!DOCTYPE svg PUBLIC \"-//W3C//DTD SVG 1.1//EN\"\n \"http://www.w3.org/Graphics/SVG/1.1/DTD/svg11.dtd\">\n<!-- Generated by graphviz version 2.40.1 (20161225.0304)\n -->\n<!-- Title: %3 Pages: 1 -->\n<svg width=\"780pt\" height=\"116pt\"\n viewBox=\"0.00 0.00 780.00 116.00\" xmlns=\"http://www.w3.org/2000/svg\" xmlns:xlink=\"http://www.w3.org/1999/xlink\">\n<g id=\"graph0\" class=\"graph\" transform=\"scale(1 1) rotate(0) translate(4 112)\">\n<title>%3</title>\n<polygon fill=\"#ffffff\" stroke=\"transparent\" points=\"-4,4 -4,-112 776,-112 776,4 -4,4\"/>\n<!-- State_ -->\n<g id=\"node1\" class=\"node\">\n<title>State_</title>\n<polygon fill=\"none\" stroke=\"#000000\" points=\"327,-108 264,-108 264,-72 327,-72 327,-108\"/>\n<text text-anchor=\"middle\" x=\"295.5\" y=\"-86.6\" font-family=\"Times,serif\" font-size=\"13.00\" fill=\"#000000\">f(State0)</text>\n</g>\n<!-- State -->\n<g id=\"node7\" class=\"node\">\n<title>State</title>\n<ellipse fill=\"none\" stroke=\"#000000\" cx=\"230.5\" cy=\"-18\" rx=\"28.6953\" ry=\"18\"/>\n<text text-anchor=\"middle\" x=\"230.5\" y=\"-14.3\" font-family=\"Times,serif\" font-size=\"14.00\" fill=\"#000000\">State</text>\n</g>\n<!-- State_&#45;&#45;State -->\n<g id=\"edge1\" class=\"edge\">\n<title>State_&#45;&#45;State</title>\n<path fill=\"none\" stroke=\"#000000\" d=\"M279.0978,-71.8314C268.5673,-60.1668 255.0203,-45.1609 244.9054,-33.9568\"/>\n</g>\n<!-- Age_ -->\n<g id=\"node2\" class=\"node\">\n<title>Age_</title>\n<polygon fill=\"none\" stroke=\"#000000\" points=\"95,-108 0,-108 0,-72 95,-72 95,-108\"/>\n<text text-anchor=\"middle\" x=\"47.5\" y=\"-86.6\" font-family=\"Times,serif\" font-size=\"13.00\" fill=\"#000000\">f(Age1,State0)</text>\n</g>\n<!-- Age_&#45;&#45;State -->\n<g id=\"edge3\" class=\"edge\">\n<title>Age_&#45;&#45;State</title>\n<path fill=\"none\" stroke=\"#ff0000\" d=\"M93.6786,-71.8314C129.4672,-57.7506 177.6313,-38.8008 206.2344,-27.5471\"/>\n</g>\n<!-- Age -->\n<g id=\"node8\" class=\"node\">\n<title>Age</title>\n<ellipse fill=\"none\" stroke=\"#000000\" cx=\"127.5\" cy=\"-18\" rx=\"27\" ry=\"18\"/>\n<text text-anchor=\"middle\" x=\"127.5\" y=\"-14.3\" font-family=\"Times,serif\" font-size=\"14.00\" fill=\"#000000\">Age</text>\n</g>\n<!-- Age_&#45;&#45;Age -->\n<g id=\"edge2\" class=\"edge\">\n<title>Age_&#45;&#45;Age</title>\n<path fill=\"none\" stroke=\"#ff0000\" d=\"M67.6874,-71.8314C81.2034,-59.6669 98.7572,-43.8686 111.3469,-32.5378\"/>\n</g>\n<!-- COVID_ -->\n<g id=\"node3\" class=\"node\">\n<title>COVID_</title>\n<polygon fill=\"none\" stroke=\"#000000\" points=\"458,-108 345,-108 345,-72 458,-72 458,-108\"/>\n<text text-anchor=\"middle\" x=\"401.5\" y=\"-86.6\" font-family=\"Times,serif\" font-size=\"13.00\" fill=\"#000000\">f(COVID2,State0)</text>\n</g>\n<!-- COVID_&#45;&#45;State -->\n<g id=\"edge5\" class=\"edge\">\n<title>COVID_&#45;&#45;State</title>\n<path fill=\"none\" stroke=\"#000000\" d=\"M358.3495,-71.8314C325.5014,-58.0006 281.4961,-39.4721 254.6148,-28.1536\"/>\n</g>\n<!-- COVID -->\n<g id=\"node9\" class=\"node\">\n<title>COVID</title>\n<ellipse fill=\"none\" stroke=\"#000000\" cx=\"635.5\" cy=\"-18\" rx=\"40.0939\" ry=\"18\"/>\n<text text-anchor=\"middle\" x=\"635.5\" y=\"-14.3\" font-family=\"Times,serif\" font-size=\"14.00\" fill=\"#000000\">COVID</text>\n</g>\n<!-- COVID_&#45;&#45;COVID -->\n<g id=\"edge4\" class=\"edge\">\n<title>COVID_&#45;&#45;COVID</title>\n<path fill=\"none\" stroke=\"#000000\" d=\"M458.0748,-74.5638C494.8592,-64.2628 543.7551,-50.0715 586.5,-36 592.4397,-34.0447 598.7373,-31.8357 604.7683,-29.6519\"/>\n</g>\n<!-- Party_ -->\n<g id=\"node4\" class=\"node\">\n<title>Party_</title>\n<polygon fill=\"none\" stroke=\"#000000\" points=\"245.5,-108 113.5,-108 113.5,-72 245.5,-72 245.5,-108\"/>\n<text text-anchor=\"middle\" x=\"179.5\" y=\"-86.6\" font-family=\"Times,serif\" font-size=\"13.00\" fill=\"#000000\">f(Party3,State0,Age1)</text>\n</g>\n<!-- Party_&#45;&#45;State -->\n<g id=\"edge7\" class=\"edge\">\n<title>Party_&#45;&#45;State</title>\n<path fill=\"none\" stroke=\"#ff0000\" d=\"M192.3695,-71.8314C200.3958,-60.5001 210.6556,-46.0157 218.5105,-34.9263\"/>\n</g>\n<!-- Party_&#45;&#45;Age -->\n<g id=\"edge8\" class=\"edge\">\n<title>Party_&#45;&#45;Age</title>\n<path fill=\"none\" stroke=\"#ff0000\" d=\"M166.3782,-71.8314C158.0742,-60.3335 147.4254,-45.589 139.3728,-34.4393\"/>\n</g>\n<!-- Party -->\n<g id=\"node10\" class=\"node\">\n<title>Party</title>\n<ellipse fill=\"none\" stroke=\"#000000\" cx=\"445.5\" cy=\"-18\" rx=\"30.5947\" ry=\"18\"/>\n<text text-anchor=\"middle\" x=\"445.5\" y=\"-14.3\" font-family=\"Times,serif\" font-size=\"14.00\" fill=\"#000000\">Party</text>\n</g>\n<!-- Party_&#45;&#45;Party -->\n<g id=\"edge6\" class=\"edge\">\n<title>Party_&#45;&#45;Party</title>\n<path fill=\"none\" stroke=\"#000000\" d=\"M245.5946,-72.1097C300.8324,-57.1581 376.8897,-36.5712 417.4132,-25.6024\"/>\n</g>\n<!-- Favorite_ -->\n<g id=\"node5\" class=\"node\">\n<title>Favorite_</title>\n<polygon fill=\"none\" stroke=\"#000000\" points=\"595,-108 476,-108 476,-72 595,-72 595,-108\"/>\n<text text-anchor=\"middle\" x=\"535.5\" y=\"-86.6\" font-family=\"Times,serif\" font-size=\"13.00\" fill=\"#000000\">f(Favorite4,Party3)</text>\n</g>\n<!-- Favorite_&#45;&#45;Party -->\n<g id=\"edge10\" class=\"edge\">\n<title>Favorite_&#45;&#45;Party</title>\n<path fill=\"none\" stroke=\"#000000\" d=\"M512.7892,-71.8314C497.5837,-59.6669 477.8357,-43.8686 463.6722,-32.5378\"/>\n</g>\n<!-- Favorite -->\n<g id=\"node11\" class=\"node\">\n<title>Favorite</title>\n<ellipse fill=\"none\" stroke=\"#000000\" cx=\"535.5\" cy=\"-18\" rx=\"41.6928\" ry=\"18\"/>\n<text text-anchor=\"middle\" x=\"535.5\" y=\"-14.3\" font-family=\"Times,serif\" font-size=\"14.00\" fill=\"#000000\">Favorite</text>\n</g>\n<!-- Favorite_&#45;&#45;Favorite -->\n<g id=\"edge9\" class=\"edge\">\n<title>Favorite_&#45;&#45;Favorite</title>\n<path fill=\"none\" stroke=\"#000000\" d=\"M535.5,-71.8314C535.5,-61 535.5,-47.2876 535.5,-36.4133\"/>\n</g>\n<!-- Voting_ -->\n<g id=\"node6\" class=\"node\">\n<title>Voting_</title>\n<polygon fill=\"none\" stroke=\"#000000\" points=\"772,-108 613,-108 613,-72 772,-72 772,-108\"/>\n<text text-anchor=\"middle\" x=\"692.5\" y=\"-86.6\" font-family=\"Times,serif\" font-size=\"13.00\" fill=\"#000000\">f(Voting5,Party3,COVID2)</text>\n</g>\n<!-- Voting_&#45;&#45;COVID -->\n<g id=\"edge13\" class=\"edge\">\n<title>Voting_&#45;&#45;COVID</title>\n<path fill=\"none\" stroke=\"#000000\" d=\"M678.1165,-71.8314C669.2778,-60.6667 658.0158,-46.441 649.289,-35.4177\"/>\n</g>\n<!-- Voting_&#45;&#45;Party -->\n<g id=\"edge12\" class=\"edge\">\n<title>Voting_&#45;&#45;Party</title>\n<path fill=\"none\" stroke=\"#000000\" d=\"M612.9739,-72.8752C573.7895,-63.5518 526.1319,-50.8772 484.5,-36 479.4439,-34.1932 474.147,-31.9789 469.1445,-29.7293\"/>\n</g>\n<!-- Voting -->\n<g id=\"node12\" class=\"node\">\n<title>Voting</title>\n<ellipse fill=\"none\" stroke=\"#000000\" cx=\"730.5\" cy=\"-18\" rx=\"36.2938\" ry=\"18\"/>\n<text text-anchor=\"middle\" x=\"730.5\" y=\"-14.3\" font-family=\"Times,serif\" font-size=\"14.00\" fill=\"#000000\">Voting</text>\n</g>\n<!-- Voting_&#45;&#45;Voting -->\n<g id=\"edge11\" class=\"edge\">\n<title>Voting_&#45;&#45;Voting</title>\n<path fill=\"none\" stroke=\"#000000\" d=\"M702.089,-71.8314C707.9814,-60.6667 715.4895,-46.441 721.3073,-35.4177\"/>\n</g>\n</g>\n</svg>\n"
          },
          "metadata": {}
        },
        {
          "output_type": "display_data",
          "data": {
            "image/svg+xml": "<?xml version=\"1.0\" encoding=\"UTF-8\" standalone=\"no\"?>\n<!DOCTYPE svg PUBLIC \"-//W3C//DTD SVG 1.1//EN\"\n \"http://www.w3.org/Graphics/SVG/1.1/DTD/svg11.dtd\">\n<!-- Generated by graphviz version 2.40.1 (20161225.0304)\n -->\n<!-- Title: %3 Pages: 1 -->\n<svg width=\"780pt\" height=\"116pt\"\n viewBox=\"0.00 0.00 780.00 116.00\" xmlns=\"http://www.w3.org/2000/svg\" xmlns:xlink=\"http://www.w3.org/1999/xlink\">\n<g id=\"graph0\" class=\"graph\" transform=\"scale(1 1) rotate(0) translate(4 112)\">\n<title>%3</title>\n<polygon fill=\"#ffffff\" stroke=\"transparent\" points=\"-4,4 -4,-112 776,-112 776,4 -4,4\"/>\n<!-- State_ -->\n<g id=\"node1\" class=\"node\">\n<title>State_</title>\n<polygon fill=\"none\" stroke=\"#000000\" points=\"327,-108 264,-108 264,-72 327,-72 327,-108\"/>\n<text text-anchor=\"middle\" x=\"295.5\" y=\"-86.6\" font-family=\"Times,serif\" font-size=\"13.00\" fill=\"#000000\">f(State0)</text>\n</g>\n<!-- State -->\n<g id=\"node7\" class=\"node\">\n<title>State</title>\n<ellipse fill=\"none\" stroke=\"#000000\" cx=\"230.5\" cy=\"-18\" rx=\"28.6953\" ry=\"18\"/>\n<text text-anchor=\"middle\" x=\"230.5\" y=\"-14.3\" font-family=\"Times,serif\" font-size=\"14.00\" fill=\"#000000\">State</text>\n</g>\n<!-- State_&#45;&#45;State -->\n<g id=\"edge1\" class=\"edge\">\n<title>State_&#45;&#45;State</title>\n<path fill=\"none\" stroke=\"#000000\" d=\"M279.0978,-71.8314C268.5673,-60.1668 255.0203,-45.1609 244.9054,-33.9568\"/>\n</g>\n<!-- Age_ -->\n<g id=\"node2\" class=\"node\">\n<title>Age_</title>\n<polygon fill=\"none\" stroke=\"#000000\" points=\"95,-108 0,-108 0,-72 95,-72 95,-108\"/>\n<text text-anchor=\"middle\" x=\"47.5\" y=\"-86.6\" font-family=\"Times,serif\" font-size=\"13.00\" fill=\"#000000\">f(Age1,State0)</text>\n</g>\n<!-- Age_&#45;&#45;State -->\n<g id=\"edge3\" class=\"edge\">\n<title>Age_&#45;&#45;State</title>\n<path fill=\"none\" stroke=\"#000000\" d=\"M93.6786,-71.8314C129.4672,-57.7506 177.6313,-38.8008 206.2344,-27.5471\"/>\n</g>\n<!-- Age -->\n<g id=\"node8\" class=\"node\">\n<title>Age</title>\n<ellipse fill=\"none\" stroke=\"#000000\" cx=\"127.5\" cy=\"-18\" rx=\"27\" ry=\"18\"/>\n<text text-anchor=\"middle\" x=\"127.5\" y=\"-14.3\" font-family=\"Times,serif\" font-size=\"14.00\" fill=\"#000000\">Age</text>\n</g>\n<!-- Age_&#45;&#45;Age -->\n<g id=\"edge2\" class=\"edge\">\n<title>Age_&#45;&#45;Age</title>\n<path fill=\"none\" stroke=\"#000000\" d=\"M67.6874,-71.8314C81.2034,-59.6669 98.7572,-43.8686 111.3469,-32.5378\"/>\n</g>\n<!-- COVID_ -->\n<g id=\"node3\" class=\"node\">\n<title>COVID_</title>\n<polygon fill=\"none\" stroke=\"#000000\" points=\"458,-108 345,-108 345,-72 458,-72 458,-108\"/>\n<text text-anchor=\"middle\" x=\"401.5\" y=\"-86.6\" font-family=\"Times,serif\" font-size=\"13.00\" fill=\"#000000\">f(COVID2,State0)</text>\n</g>\n<!-- COVID_&#45;&#45;State -->\n<g id=\"edge5\" class=\"edge\">\n<title>COVID_&#45;&#45;State</title>\n<path fill=\"none\" stroke=\"#ff0000\" d=\"M358.3495,-71.8314C325.5014,-58.0006 281.4961,-39.4721 254.6148,-28.1536\"/>\n</g>\n<!-- COVID -->\n<g id=\"node9\" class=\"node\">\n<title>COVID</title>\n<ellipse fill=\"none\" stroke=\"#000000\" cx=\"635.5\" cy=\"-18\" rx=\"40.0939\" ry=\"18\"/>\n<text text-anchor=\"middle\" x=\"635.5\" y=\"-14.3\" font-family=\"Times,serif\" font-size=\"14.00\" fill=\"#000000\">COVID</text>\n</g>\n<!-- COVID_&#45;&#45;COVID -->\n<g id=\"edge4\" class=\"edge\">\n<title>COVID_&#45;&#45;COVID</title>\n<path fill=\"none\" stroke=\"#ff0000\" d=\"M458.0748,-74.5638C494.8592,-64.2628 543.7551,-50.0715 586.5,-36 592.4397,-34.0447 598.7373,-31.8357 604.7683,-29.6519\"/>\n</g>\n<!-- Party_ -->\n<g id=\"node4\" class=\"node\">\n<title>Party_</title>\n<polygon fill=\"none\" stroke=\"#000000\" points=\"245.5,-108 113.5,-108 113.5,-72 245.5,-72 245.5,-108\"/>\n<text text-anchor=\"middle\" x=\"179.5\" y=\"-86.6\" font-family=\"Times,serif\" font-size=\"13.00\" fill=\"#000000\">f(Party3,State0,Age1)</text>\n</g>\n<!-- Party_&#45;&#45;State -->\n<g id=\"edge7\" class=\"edge\">\n<title>Party_&#45;&#45;State</title>\n<path fill=\"none\" stroke=\"#ff0000\" d=\"M192.3695,-71.8314C200.3958,-60.5001 210.6556,-46.0157 218.5105,-34.9263\"/>\n</g>\n<!-- Party_&#45;&#45;Age -->\n<g id=\"edge8\" class=\"edge\">\n<title>Party_&#45;&#45;Age</title>\n<path fill=\"none\" stroke=\"#000000\" d=\"M166.3782,-71.8314C158.0742,-60.3335 147.4254,-45.589 139.3728,-34.4393\"/>\n</g>\n<!-- Party -->\n<g id=\"node10\" class=\"node\">\n<title>Party</title>\n<ellipse fill=\"none\" stroke=\"#000000\" cx=\"445.5\" cy=\"-18\" rx=\"30.5947\" ry=\"18\"/>\n<text text-anchor=\"middle\" x=\"445.5\" y=\"-14.3\" font-family=\"Times,serif\" font-size=\"14.00\" fill=\"#000000\">Party</text>\n</g>\n<!-- Party_&#45;&#45;Party -->\n<g id=\"edge6\" class=\"edge\">\n<title>Party_&#45;&#45;Party</title>\n<path fill=\"none\" stroke=\"#ff0000\" d=\"M245.5946,-72.1097C300.8324,-57.1581 376.8897,-36.5712 417.4132,-25.6024\"/>\n</g>\n<!-- Favorite_ -->\n<g id=\"node5\" class=\"node\">\n<title>Favorite_</title>\n<polygon fill=\"none\" stroke=\"#000000\" points=\"595,-108 476,-108 476,-72 595,-72 595,-108\"/>\n<text text-anchor=\"middle\" x=\"535.5\" y=\"-86.6\" font-family=\"Times,serif\" font-size=\"13.00\" fill=\"#000000\">f(Favorite4,Party3)</text>\n</g>\n<!-- Favorite_&#45;&#45;Party -->\n<g id=\"edge10\" class=\"edge\">\n<title>Favorite_&#45;&#45;Party</title>\n<path fill=\"none\" stroke=\"#000000\" d=\"M512.7892,-71.8314C497.5837,-59.6669 477.8357,-43.8686 463.6722,-32.5378\"/>\n</g>\n<!-- Favorite -->\n<g id=\"node11\" class=\"node\">\n<title>Favorite</title>\n<ellipse fill=\"none\" stroke=\"#000000\" cx=\"535.5\" cy=\"-18\" rx=\"41.6928\" ry=\"18\"/>\n<text text-anchor=\"middle\" x=\"535.5\" y=\"-14.3\" font-family=\"Times,serif\" font-size=\"14.00\" fill=\"#000000\">Favorite</text>\n</g>\n<!-- Favorite_&#45;&#45;Favorite -->\n<g id=\"edge9\" class=\"edge\">\n<title>Favorite_&#45;&#45;Favorite</title>\n<path fill=\"none\" stroke=\"#000000\" d=\"M535.5,-71.8314C535.5,-61 535.5,-47.2876 535.5,-36.4133\"/>\n</g>\n<!-- Voting_ -->\n<g id=\"node6\" class=\"node\">\n<title>Voting_</title>\n<polygon fill=\"none\" stroke=\"#000000\" points=\"772,-108 613,-108 613,-72 772,-72 772,-108\"/>\n<text text-anchor=\"middle\" x=\"692.5\" y=\"-86.6\" font-family=\"Times,serif\" font-size=\"13.00\" fill=\"#000000\">f(Voting5,Party3,COVID2)</text>\n</g>\n<!-- Voting_&#45;&#45;COVID -->\n<g id=\"edge13\" class=\"edge\">\n<title>Voting_&#45;&#45;COVID</title>\n<path fill=\"none\" stroke=\"#ff0000\" d=\"M678.1165,-71.8314C669.2778,-60.6667 658.0158,-46.441 649.289,-35.4177\"/>\n</g>\n<!-- Voting_&#45;&#45;Party -->\n<g id=\"edge12\" class=\"edge\">\n<title>Voting_&#45;&#45;Party</title>\n<path fill=\"none\" stroke=\"#ff0000\" d=\"M612.9739,-72.8752C573.7895,-63.5518 526.1319,-50.8772 484.5,-36 479.4439,-34.1932 474.147,-31.9789 469.1445,-29.7293\"/>\n</g>\n<!-- Voting -->\n<g id=\"node12\" class=\"node\">\n<title>Voting</title>\n<ellipse fill=\"none\" stroke=\"#000000\" cx=\"730.5\" cy=\"-18\" rx=\"36.2938\" ry=\"18\"/>\n<text text-anchor=\"middle\" x=\"730.5\" y=\"-14.3\" font-family=\"Times,serif\" font-size=\"14.00\" fill=\"#000000\">Voting</text>\n</g>\n<!-- Voting_&#45;&#45;Voting -->\n<g id=\"edge11\" class=\"edge\">\n<title>Voting_&#45;&#45;Voting</title>\n<path fill=\"none\" stroke=\"#000000\" d=\"M702.089,-71.8314C707.9814,-60.6667 715.4895,-46.441 721.3073,-35.4177\"/>\n</g>\n</g>\n</svg>\n"
          },
          "metadata": {}
        },
        {
          "output_type": "display_data",
          "data": {
            "image/svg+xml": "<?xml version=\"1.0\" encoding=\"UTF-8\" standalone=\"no\"?>\n<!DOCTYPE svg PUBLIC \"-//W3C//DTD SVG 1.1//EN\"\n \"http://www.w3.org/Graphics/SVG/1.1/DTD/svg11.dtd\">\n<!-- Generated by graphviz version 2.40.1 (20161225.0304)\n -->\n<!-- Title: %3 Pages: 1 -->\n<svg width=\"780pt\" height=\"116pt\"\n viewBox=\"0.00 0.00 780.00 116.00\" xmlns=\"http://www.w3.org/2000/svg\" xmlns:xlink=\"http://www.w3.org/1999/xlink\">\n<g id=\"graph0\" class=\"graph\" transform=\"scale(1 1) rotate(0) translate(4 112)\">\n<title>%3</title>\n<polygon fill=\"#ffffff\" stroke=\"transparent\" points=\"-4,4 -4,-112 776,-112 776,4 -4,4\"/>\n<!-- State_ -->\n<g id=\"node1\" class=\"node\">\n<title>State_</title>\n<polygon fill=\"none\" stroke=\"#000000\" points=\"327,-108 264,-108 264,-72 327,-72 327,-108\"/>\n<text text-anchor=\"middle\" x=\"295.5\" y=\"-86.6\" font-family=\"Times,serif\" font-size=\"13.00\" fill=\"#000000\">f(State0)</text>\n</g>\n<!-- State -->\n<g id=\"node7\" class=\"node\">\n<title>State</title>\n<ellipse fill=\"none\" stroke=\"#000000\" cx=\"230.5\" cy=\"-18\" rx=\"28.6953\" ry=\"18\"/>\n<text text-anchor=\"middle\" x=\"230.5\" y=\"-14.3\" font-family=\"Times,serif\" font-size=\"14.00\" fill=\"#000000\">State</text>\n</g>\n<!-- State_&#45;&#45;State -->\n<g id=\"edge1\" class=\"edge\">\n<title>State_&#45;&#45;State</title>\n<path fill=\"none\" stroke=\"#000000\" d=\"M279.0978,-71.8314C268.5673,-60.1668 255.0203,-45.1609 244.9054,-33.9568\"/>\n</g>\n<!-- Age_ -->\n<g id=\"node2\" class=\"node\">\n<title>Age_</title>\n<polygon fill=\"none\" stroke=\"#000000\" points=\"95,-108 0,-108 0,-72 95,-72 95,-108\"/>\n<text text-anchor=\"middle\" x=\"47.5\" y=\"-86.6\" font-family=\"Times,serif\" font-size=\"13.00\" fill=\"#000000\">f(Age1,State0)</text>\n</g>\n<!-- Age_&#45;&#45;State -->\n<g id=\"edge3\" class=\"edge\">\n<title>Age_&#45;&#45;State</title>\n<path fill=\"none\" stroke=\"#ff0000\" d=\"M93.6786,-71.8314C129.4672,-57.7506 177.6313,-38.8008 206.2344,-27.5471\"/>\n</g>\n<!-- Age -->\n<g id=\"node8\" class=\"node\">\n<title>Age</title>\n<ellipse fill=\"none\" stroke=\"#000000\" cx=\"127.5\" cy=\"-18\" rx=\"27\" ry=\"18\"/>\n<text text-anchor=\"middle\" x=\"127.5\" y=\"-14.3\" font-family=\"Times,serif\" font-size=\"14.00\" fill=\"#000000\">Age</text>\n</g>\n<!-- Age_&#45;&#45;Age -->\n<g id=\"edge2\" class=\"edge\">\n<title>Age_&#45;&#45;Age</title>\n<path fill=\"none\" stroke=\"#ff0000\" d=\"M67.6874,-71.8314C81.2034,-59.6669 98.7572,-43.8686 111.3469,-32.5378\"/>\n</g>\n<!-- COVID_ -->\n<g id=\"node3\" class=\"node\">\n<title>COVID_</title>\n<polygon fill=\"none\" stroke=\"#000000\" points=\"458,-108 345,-108 345,-72 458,-72 458,-108\"/>\n<text text-anchor=\"middle\" x=\"401.5\" y=\"-86.6\" font-family=\"Times,serif\" font-size=\"13.00\" fill=\"#000000\">f(COVID2,State0)</text>\n</g>\n<!-- COVID_&#45;&#45;State -->\n<g id=\"edge5\" class=\"edge\">\n<title>COVID_&#45;&#45;State</title>\n<path fill=\"none\" stroke=\"#ff0000\" d=\"M358.3495,-71.8314C325.5014,-58.0006 281.4961,-39.4721 254.6148,-28.1536\"/>\n</g>\n<!-- COVID -->\n<g id=\"node9\" class=\"node\">\n<title>COVID</title>\n<ellipse fill=\"none\" stroke=\"#000000\" cx=\"635.5\" cy=\"-18\" rx=\"40.0939\" ry=\"18\"/>\n<text text-anchor=\"middle\" x=\"635.5\" y=\"-14.3\" font-family=\"Times,serif\" font-size=\"14.00\" fill=\"#000000\">COVID</text>\n</g>\n<!-- COVID_&#45;&#45;COVID -->\n<g id=\"edge4\" class=\"edge\">\n<title>COVID_&#45;&#45;COVID</title>\n<path fill=\"none\" stroke=\"#ff0000\" d=\"M458.0748,-74.5638C494.8592,-64.2628 543.7551,-50.0715 586.5,-36 592.4397,-34.0447 598.7373,-31.8357 604.7683,-29.6519\"/>\n</g>\n<!-- Party_ -->\n<g id=\"node4\" class=\"node\">\n<title>Party_</title>\n<polygon fill=\"none\" stroke=\"#000000\" points=\"245.5,-108 113.5,-108 113.5,-72 245.5,-72 245.5,-108\"/>\n<text text-anchor=\"middle\" x=\"179.5\" y=\"-86.6\" font-family=\"Times,serif\" font-size=\"13.00\" fill=\"#000000\">f(Party3,State0,Age1)</text>\n</g>\n<!-- Party_&#45;&#45;State -->\n<g id=\"edge7\" class=\"edge\">\n<title>Party_&#45;&#45;State</title>\n<path fill=\"none\" stroke=\"#000000\" d=\"M192.3695,-71.8314C200.3958,-60.5001 210.6556,-46.0157 218.5105,-34.9263\"/>\n</g>\n<!-- Party_&#45;&#45;Age -->\n<g id=\"edge8\" class=\"edge\">\n<title>Party_&#45;&#45;Age</title>\n<path fill=\"none\" stroke=\"#ff0000\" d=\"M166.3782,-71.8314C158.0742,-60.3335 147.4254,-45.589 139.3728,-34.4393\"/>\n</g>\n<!-- Party -->\n<g id=\"node10\" class=\"node\">\n<title>Party</title>\n<ellipse fill=\"none\" stroke=\"#000000\" cx=\"445.5\" cy=\"-18\" rx=\"30.5947\" ry=\"18\"/>\n<text text-anchor=\"middle\" x=\"445.5\" y=\"-14.3\" font-family=\"Times,serif\" font-size=\"14.00\" fill=\"#000000\">Party</text>\n</g>\n<!-- Party_&#45;&#45;Party -->\n<g id=\"edge6\" class=\"edge\">\n<title>Party_&#45;&#45;Party</title>\n<path fill=\"none\" stroke=\"#ff0000\" d=\"M245.5946,-72.1097C300.8324,-57.1581 376.8897,-36.5712 417.4132,-25.6024\"/>\n</g>\n<!-- Favorite_ -->\n<g id=\"node5\" class=\"node\">\n<title>Favorite_</title>\n<polygon fill=\"none\" stroke=\"#000000\" points=\"595,-108 476,-108 476,-72 595,-72 595,-108\"/>\n<text text-anchor=\"middle\" x=\"535.5\" y=\"-86.6\" font-family=\"Times,serif\" font-size=\"13.00\" fill=\"#000000\">f(Favorite4,Party3)</text>\n</g>\n<!-- Favorite_&#45;&#45;Party -->\n<g id=\"edge10\" class=\"edge\">\n<title>Favorite_&#45;&#45;Party</title>\n<path fill=\"none\" stroke=\"#000000\" d=\"M512.7892,-71.8314C497.5837,-59.6669 477.8357,-43.8686 463.6722,-32.5378\"/>\n</g>\n<!-- Favorite -->\n<g id=\"node11\" class=\"node\">\n<title>Favorite</title>\n<ellipse fill=\"none\" stroke=\"#000000\" cx=\"535.5\" cy=\"-18\" rx=\"41.6928\" ry=\"18\"/>\n<text text-anchor=\"middle\" x=\"535.5\" y=\"-14.3\" font-family=\"Times,serif\" font-size=\"14.00\" fill=\"#000000\">Favorite</text>\n</g>\n<!-- Favorite_&#45;&#45;Favorite -->\n<g id=\"edge9\" class=\"edge\">\n<title>Favorite_&#45;&#45;Favorite</title>\n<path fill=\"none\" stroke=\"#000000\" d=\"M535.5,-71.8314C535.5,-61 535.5,-47.2876 535.5,-36.4133\"/>\n</g>\n<!-- Voting_ -->\n<g id=\"node6\" class=\"node\">\n<title>Voting_</title>\n<polygon fill=\"none\" stroke=\"#000000\" points=\"772,-108 613,-108 613,-72 772,-72 772,-108\"/>\n<text text-anchor=\"middle\" x=\"692.5\" y=\"-86.6\" font-family=\"Times,serif\" font-size=\"13.00\" fill=\"#000000\">f(Voting5,Party3,COVID2)</text>\n</g>\n<!-- Voting_&#45;&#45;COVID -->\n<g id=\"edge13\" class=\"edge\">\n<title>Voting_&#45;&#45;COVID</title>\n<path fill=\"none\" stroke=\"#ff0000\" d=\"M678.1165,-71.8314C669.2778,-60.6667 658.0158,-46.441 649.289,-35.4177\"/>\n</g>\n<!-- Voting_&#45;&#45;Party -->\n<g id=\"edge12\" class=\"edge\">\n<title>Voting_&#45;&#45;Party</title>\n<path fill=\"none\" stroke=\"#ff0000\" d=\"M612.9739,-72.8752C573.7895,-63.5518 526.1319,-50.8772 484.5,-36 479.4439,-34.1932 474.147,-31.9789 469.1445,-29.7293\"/>\n</g>\n<!-- Voting -->\n<g id=\"node12\" class=\"node\">\n<title>Voting</title>\n<ellipse fill=\"none\" stroke=\"#000000\" cx=\"730.5\" cy=\"-18\" rx=\"36.2938\" ry=\"18\"/>\n<text text-anchor=\"middle\" x=\"730.5\" y=\"-14.3\" font-family=\"Times,serif\" font-size=\"14.00\" fill=\"#000000\">Voting</text>\n</g>\n<!-- Voting_&#45;&#45;Voting -->\n<g id=\"edge11\" class=\"edge\">\n<title>Voting_&#45;&#45;Voting</title>\n<path fill=\"none\" stroke=\"#000000\" d=\"M702.089,-71.8314C707.9814,-60.6667 715.4895,-46.441 721.3073,-35.4177\"/>\n</g>\n</g>\n</svg>\n"
          },
          "metadata": {}
        }
      ],
      "source": [
        "# there are 3 cycles in this new factor graph\n",
        "# you can see them in pictures below with red color (even with 1 cycle we would need to use loopy propagation)\n",
        "\n",
        "from IPython.core.display import display_svg\n",
        "\n",
        "# start of first picture\n",
        "fg = Graph()\n",
        "for f in factors:\n",
        "    fg.node(var_names[f.vars[0]]+\"_\", str(f), shape=\"box\", fontsize=\"13\")\n",
        "#instead of printing all edges at once print them 1 by 1 and choose manualy which are the loop\n",
        "edges = [(var_names[f.vars[0]]+\"_\" ,var_names[v]) for f in factors for v in f.vars]\n",
        "for node1,node2 in edges:\n",
        "  if node2 == \"Age\" or node1 == \"Age_\" or node1 == \"Party_\" and node2 == \"State\":\n",
        "    # choosed loop, then edge is red\n",
        "    fg.edge(node1,node2,color=\"red\")\n",
        "  else:\n",
        "    fg.edge(node1,node2)\n",
        "display_svg(fg)\n",
        "\n",
        "# start of second picture\n",
        "fg = Graph()\n",
        "for f in factors:\n",
        "    fg.node(var_names[f.vars[0]]+\"_\", str(f), shape=\"box\", fontsize=\"13\")\n",
        "edges = [(var_names[f.vars[0]]+\"_\" ,var_names[v]) for f in factors for v in f.vars]\n",
        "for node1,node2 in edges:\n",
        "  # only difference is this from upper implementation is this condition\n",
        "  if node2 == \"COVID\" or node1 == \"COVID_\" or (node1 == \"Party_\" and node2 == \"State\") or (node2 == \"Party\" and not node1 == \"Favorite_\"):\n",
        "    fg.edge(node1,node2,color=\"red\")\n",
        "  else:\n",
        "    fg.edge(node1,node2)\n",
        "display_svg(fg)\n",
        "\n",
        "# start of third picture\n",
        "fg = Graph()\n",
        "for f in factors:\n",
        "    fg.node(var_names[f.vars[0]]+\"_\", str(f), shape=\"box\", fontsize=\"13\")\n",
        "edges = [(var_names[f.vars[0]]+\"_\" ,var_names[v]) for f in factors for v in f.vars]\n",
        "for node1,node2 in edges:\n",
        "  # only difference is this from upper implementation is this condition\n",
        "  if node2 == \"COVID\" or node1 == \"COVID_\" or node1 == \"Age_\" or node2 == \"Age\" or (node2 == \"Party\" and not node1 == \"Favorite_\"):\n",
        "    fg.edge(node1,node2,color=\"red\")\n",
        "  else:\n",
        "    fg.edge(node1,node2)\n",
        "display_svg(fg)\n"
      ]
    },
    {
      "cell_type": "markdown",
      "metadata": {
        "id": "bL0ZT75fKPWk"
      },
      "source": [
        "7\\. Since the Factor Graph is not a tree, we cannot use the standard Belief Propagation algorithm for the inference. Therefore, use Loopy Belief Propagation algorithm to infer all marginal distributions $P(State)$, $P(Age)$, $P(COVID)$, $P(Party)$, $P(Favorite)$, $P(Voting)$ for the updated model. Again, reuse the existing functions **evaluate_message** and **marginal4var** and check the correctness of the inferred distributions using the **brute_force_marginalize** function. Note that, because of the loop in the Factor Graph, the message cannot be topologically sorted and an alternative iterative schedule needs to be chosen for evaluating the messages. What schedule for evaluating the messages did you choose? How does it affect the convergence of the algorithm? Note that, to increase numerical stability of the Loopy Belief Propagation algorithm, it is a good idea to normalize each message so that it sums to 1. Such normalization does not change the result."
      ]
    },
    {
      "cell_type": "code",
      "execution_count": 69,
      "metadata": {
        "scrolled": true,
        "id": "pUXD1AIKKPWk",
        "colab": {
          "base_uri": "https://localhost:8080/"
        },
        "outputId": "65d98291-5718-4d7f-aea2-42344c35afc2"
      },
      "outputs": [
        {
          "output_type": "stream",
          "name": "stdout",
          "text": [
            "number of loops needed to convergate:  2\n",
            "\n",
            "loopy belief propagation:\n",
            "[0.3 0.5 0.2]\n",
            "[0.54 0.46]\n",
            "[0.635 0.365]\n",
            "[0.661 0.339]\n",
            "[0.69575 0.30425]\n",
            "[0.3729265 0.456053  0.1710205]\n",
            "\n",
            "brute force check:\n",
            "[0.3, 0.49999999999999994, 0.2]\n",
            "[0.54, 0.45999999999999985]\n",
            "[0.635, 0.365]\n",
            "[0.6629999999999999, 0.33699999999999997]\n",
            "[0.69725, 0.30274999999999996]\n",
            "[0.37118, 0.45396, 0.17486000000000002]\n"
          ]
        }
      ],
      "source": [
        "topologically_sorted_arcs=[]\n",
        "def down_the_tree_loopy(to_node, from_node):\n",
        "    neighbours = to_node.vars if type(to_node) is Factor else [f for f in factors if to_node in f.vars]\n",
        "    for node in neighbours:\n",
        "        if node not in from_node:\n",
        "            from_node.append(to_node)\n",
        "            down_the_tree_loopy(node, from_node)\n",
        "            topologically_sorted_arcs.append((node, to_node))\n",
        "\n",
        "down_the_tree_loopy(5, [])\n",
        "\n",
        "reverse_sorted_arcs=[]\n",
        "for from_node, to_node in topologically_sorted_arcs:\n",
        "  reverse_sorted_arcs.append((to_node,from_node))   #creating complement to all edges\n",
        "\n",
        "reverse_sorted_arcs.reverse()   #reversing complement\n",
        "topologically_sorted_arcs.extend(reverse_sorted_arcs)\n",
        "\n",
        "\n",
        "from collections import defaultdict\n",
        "messages_loopy = defaultdict(lambda: [1])\n",
        "\n",
        "\n",
        "for j in range(40):\n",
        "  changed = False\n",
        "  for from_node, to_node in topologically_sorted_arcs:\n",
        "    # evaluate_message(from_node, to_node, messages_loopy)\n",
        "    chang = evaluate_message(from_node, to_node, messages_loopy, loopy = True)\n",
        "    changed = changed or chang\n",
        "  if not changed:\n",
        "    print(\"number of loops needed to convergate: \",j) # j is indexing from 0, but last (third) loop didnt change anything, so 2 was needed\n",
        "    break\n",
        "\n",
        "    \n",
        "\n",
        "\n",
        "print(\"\\nloopy belief propagation:\")\n",
        "for n in range(6):    #print all marginals\n",
        "  print(marginal4var(n, messages_loopy))\n",
        "\n",
        "brute_force_ress=[]\n",
        "for i,n in enumerate(ncategories):    #permutation\n",
        "  brute_marg_list = []\n",
        "  for k in range(n):                  #permutation over all marginals\n",
        "    tmp_list=[None, None, None, None, None, None]\n",
        "    tmp_list[i]=k                     #creating query\n",
        "    brute_marg_list.append(brute_force_marginalize(tmp_list))   #appending bruteforce result to sublist to one marginal\n",
        "  brute_force_ress.append(brute_marg_list)                      #appening sublist of marginal to list of all marginals\n",
        "\n",
        "print(\"\\nbrute force check:\")\n",
        "for i in brute_force_ress:\n",
        "  print(i)"
      ]
    },
    {
      "cell_type": "markdown",
      "metadata": {
        "id": "h8aZB_GRKPWk"
      },
      "source": [
        "8\\. For our updated model, infer the most likely setting of all the variables using the brute-force approach Use the already implemented **brute_force_one_best** function for this purpose. Note that \"loopy variant\" of the Max-Product algorithm can be also used for this purpose. You might try to implement it and experiment with it to gain some bonus points."
      ]
    },
    {
      "cell_type": "code",
      "execution_count": 70,
      "metadata": {
        "scrolled": true,
        "id": "IP3JDBNtKPWk",
        "colab": {
          "base_uri": "https://localhost:8080/"
        },
        "outputId": "bfb3b964-449c-4fd0-9136-758a2e9ab258"
      },
      "outputs": [
        {
          "output_type": "execute_result",
          "data": {
            "text/plain": [
              "((1, 0, 0, 0, 0, 0), 0.07481249999999999)"
            ]
          },
          "metadata": {},
          "execution_count": 70
        }
      ],
      "source": [
        "brute_force_one_best()"
      ]
    },
    {
      "cell_type": "code",
      "source": [
        ""
      ],
      "metadata": {
        "id": "5FV4rYPzhGxy"
      },
      "execution_count": 70,
      "outputs": []
    }
  ],
  "metadata": {
    "kernelspec": {
      "display_name": "Python 3 (ipykernel)",
      "language": "python",
      "name": "python3"
    },
    "language_info": {
      "codemirror_mode": {
        "name": "ipython",
        "version": 3
      },
      "file_extension": ".py",
      "mimetype": "text/x-python",
      "name": "python",
      "nbconvert_exporter": "python",
      "pygments_lexer": "ipython3",
      "version": "3.8.5"
    },
    "colab": {
      "name": "BAYa_Assignment2021.ipynb",
      "provenance": [],
      "collapsed_sections": []
    }
  },
  "nbformat": 4,
  "nbformat_minor": 0
}